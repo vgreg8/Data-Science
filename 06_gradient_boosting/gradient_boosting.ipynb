{
 "cells": [
  {
   "cell_type": "markdown",
   "metadata": {},
   "source": [
    "Сервис по продаже автомобилей с пробегом «Не бит, не крашен» разрабатывает приложение для привлечения новых клиентов. В нём можно быстро узнать рыночную стоимость своего автомобиля. В вашем распоряжении исторические данные: технические характеристики, комплектации и цены автомобилей. Вам нужно построить модель для определения стоимости. \n",
    "\n",
    "Заказчику важны:\n",
    "\n",
    "- качество предсказания;\n",
    "- скорость предсказания;\n",
    "- время обучения."
   ]
  },
  {
   "cell_type": "markdown",
   "metadata": {},
   "source": [
    "# 1. Подготовка данных"
   ]
  },
  {
   "cell_type": "code",
   "execution_count": 1,
   "metadata": {},
   "outputs": [],
   "source": [
    "import os\n",
    "import time\n",
    "\n",
    "import pandas as pd\n",
    "import numpy as np\n",
    "from collections import defaultdict\n",
    "\n",
    "from sklearn.model_selection import train_test_split, GridSearchCV, KFold\n",
    "from sklearn.linear_model import Lasso, Ridge\n",
    "from sklearn.pipeline import Pipeline\n",
    "from sklearn.preprocessing import OneHotEncoder, StandardScaler, LabelEncoder\n",
    "from sklearn.base import BaseEstimator\n",
    "from sklearn.metrics import mean_squared_error as mse\n",
    "\n",
    "from catboost import CatBoostRegressor\n",
    "from lightgbm import LGBMRegressor\n",
    "import lightgbm as lgb\n",
    "\n",
    "PATH = '/datasets/'\n",
    "SEED = 21"
   ]
  },
  {
   "cell_type": "code",
   "execution_count": 2,
   "metadata": {},
   "outputs": [
    {
     "name": "stdout",
     "output_type": "stream",
     "text": [
      "<class 'pandas.core.frame.DataFrame'>\n",
      "RangeIndex: 354369 entries, 0 to 354368\n",
      "Data columns (total 16 columns):\n",
      "DateCrawled          354369 non-null datetime64[ns]\n",
      "Price                354369 non-null int64\n",
      "VehicleType          316879 non-null object\n",
      "RegistrationYear     354369 non-null int64\n",
      "Gearbox              334536 non-null object\n",
      "Power                354369 non-null int64\n",
      "Model                334664 non-null object\n",
      "Kilometer            354369 non-null int64\n",
      "RegistrationMonth    354369 non-null int64\n",
      "FuelType             321474 non-null object\n",
      "Brand                354369 non-null object\n",
      "NotRepaired          283215 non-null object\n",
      "DateCreated          354369 non-null datetime64[ns]\n",
      "NumberOfPictures     354369 non-null int64\n",
      "PostalCode           354369 non-null int64\n",
      "LastSeen             354369 non-null datetime64[ns]\n",
      "dtypes: datetime64[ns](3), int64(7), object(6)\n",
      "memory usage: 43.3+ MB\n"
     ]
    },
    {
     "data": {
      "text/html": [
       "<div>\n",
       "<style scoped>\n",
       "    .dataframe tbody tr th:only-of-type {\n",
       "        vertical-align: middle;\n",
       "    }\n",
       "\n",
       "    .dataframe tbody tr th {\n",
       "        vertical-align: top;\n",
       "    }\n",
       "\n",
       "    .dataframe thead th {\n",
       "        text-align: right;\n",
       "    }\n",
       "</style>\n",
       "<table border=\"1\" class=\"dataframe\">\n",
       "  <thead>\n",
       "    <tr style=\"text-align: right;\">\n",
       "      <th></th>\n",
       "      <th>DateCrawled</th>\n",
       "      <th>Price</th>\n",
       "      <th>VehicleType</th>\n",
       "      <th>RegistrationYear</th>\n",
       "      <th>Gearbox</th>\n",
       "      <th>Power</th>\n",
       "      <th>Model</th>\n",
       "      <th>Kilometer</th>\n",
       "      <th>RegistrationMonth</th>\n",
       "      <th>FuelType</th>\n",
       "      <th>Brand</th>\n",
       "      <th>NotRepaired</th>\n",
       "      <th>DateCreated</th>\n",
       "      <th>NumberOfPictures</th>\n",
       "      <th>PostalCode</th>\n",
       "      <th>LastSeen</th>\n",
       "    </tr>\n",
       "  </thead>\n",
       "  <tbody>\n",
       "    <tr>\n",
       "      <td>331235</td>\n",
       "      <td>2016-03-25 18:57:26</td>\n",
       "      <td>10990</td>\n",
       "      <td>wagon</td>\n",
       "      <td>2010</td>\n",
       "      <td>manual</td>\n",
       "      <td>147</td>\n",
       "      <td>6_reihe</td>\n",
       "      <td>100000</td>\n",
       "      <td>4</td>\n",
       "      <td>petrol</td>\n",
       "      <td>mazda</td>\n",
       "      <td>no</td>\n",
       "      <td>2016-03-25</td>\n",
       "      <td>0</td>\n",
       "      <td>19348</td>\n",
       "      <td>2016-04-07 01:45:16</td>\n",
       "    </tr>\n",
       "    <tr>\n",
       "      <td>345917</td>\n",
       "      <td>2016-03-12 20:55:39</td>\n",
       "      <td>14750</td>\n",
       "      <td>sedan</td>\n",
       "      <td>2014</td>\n",
       "      <td>manual</td>\n",
       "      <td>86</td>\n",
       "      <td>golf</td>\n",
       "      <td>20000</td>\n",
       "      <td>11</td>\n",
       "      <td>petrol</td>\n",
       "      <td>volkswagen</td>\n",
       "      <td>no</td>\n",
       "      <td>2016-03-12</td>\n",
       "      <td>0</td>\n",
       "      <td>38440</td>\n",
       "      <td>2016-03-15 08:46:32</td>\n",
       "    </tr>\n",
       "    <tr>\n",
       "      <td>132755</td>\n",
       "      <td>2016-03-31 14:50:54</td>\n",
       "      <td>1550</td>\n",
       "      <td>small</td>\n",
       "      <td>2002</td>\n",
       "      <td>manual</td>\n",
       "      <td>60</td>\n",
       "      <td>ka</td>\n",
       "      <td>125000</td>\n",
       "      <td>11</td>\n",
       "      <td>petrol</td>\n",
       "      <td>ford</td>\n",
       "      <td>no</td>\n",
       "      <td>2016-03-31</td>\n",
       "      <td>0</td>\n",
       "      <td>51580</td>\n",
       "      <td>2016-04-06 07:45:17</td>\n",
       "    </tr>\n",
       "  </tbody>\n",
       "</table>\n",
       "</div>"
      ],
      "text/plain": [
       "               DateCrawled  Price VehicleType  RegistrationYear Gearbox  \\\n",
       "331235 2016-03-25 18:57:26  10990       wagon              2010  manual   \n",
       "345917 2016-03-12 20:55:39  14750       sedan              2014  manual   \n",
       "132755 2016-03-31 14:50:54   1550       small              2002  manual   \n",
       "\n",
       "        Power    Model  Kilometer  RegistrationMonth FuelType       Brand  \\\n",
       "331235    147  6_reihe     100000                  4   petrol       mazda   \n",
       "345917     86     golf      20000                 11   petrol  volkswagen   \n",
       "132755     60       ka     125000                 11   petrol        ford   \n",
       "\n",
       "       NotRepaired DateCreated  NumberOfPictures  PostalCode  \\\n",
       "331235          no  2016-03-25                 0       19348   \n",
       "345917          no  2016-03-12                 0       38440   \n",
       "132755          no  2016-03-31                 0       51580   \n",
       "\n",
       "                  LastSeen  \n",
       "331235 2016-04-07 01:45:16  \n",
       "345917 2016-03-15 08:46:32  \n",
       "132755 2016-04-06 07:45:17  "
      ]
     },
     "execution_count": 2,
     "metadata": {},
     "output_type": "execute_result"
    }
   ],
   "source": [
    "data = pd.read_csv(os.path.join(PATH, 'autos.csv'),\n",
    "                   parse_dates=['DateCrawled', 'LastSeen', 'DateCreated'])\n",
    "data.info()\n",
    "data.sample(3)"
   ]
  },
  {
   "cell_type": "code",
   "execution_count": 3,
   "metadata": {},
   "outputs": [
    {
     "data": {
      "text/html": [
       "<div>\n",
       "<style scoped>\n",
       "    .dataframe tbody tr th:only-of-type {\n",
       "        vertical-align: middle;\n",
       "    }\n",
       "\n",
       "    .dataframe tbody tr th {\n",
       "        vertical-align: top;\n",
       "    }\n",
       "\n",
       "    .dataframe thead th {\n",
       "        text-align: right;\n",
       "    }\n",
       "</style>\n",
       "<table border=\"1\" class=\"dataframe\">\n",
       "  <thead>\n",
       "    <tr style=\"text-align: right;\">\n",
       "      <th></th>\n",
       "      <th>Price</th>\n",
       "      <th>RegistrationYear</th>\n",
       "      <th>Power</th>\n",
       "      <th>Kilometer</th>\n",
       "      <th>RegistrationMonth</th>\n",
       "      <th>NumberOfPictures</th>\n",
       "      <th>PostalCode</th>\n",
       "    </tr>\n",
       "  </thead>\n",
       "  <tbody>\n",
       "    <tr>\n",
       "      <td>count</td>\n",
       "      <td>354369.000000</td>\n",
       "      <td>354369.000000</td>\n",
       "      <td>354369.000000</td>\n",
       "      <td>354369.000000</td>\n",
       "      <td>354369.000000</td>\n",
       "      <td>354369.0</td>\n",
       "      <td>354369.000000</td>\n",
       "    </tr>\n",
       "    <tr>\n",
       "      <td>mean</td>\n",
       "      <td>4416.656776</td>\n",
       "      <td>2004.234448</td>\n",
       "      <td>110.094337</td>\n",
       "      <td>128211.172535</td>\n",
       "      <td>5.714645</td>\n",
       "      <td>0.0</td>\n",
       "      <td>50508.689087</td>\n",
       "    </tr>\n",
       "    <tr>\n",
       "      <td>std</td>\n",
       "      <td>4514.158514</td>\n",
       "      <td>90.227958</td>\n",
       "      <td>189.850405</td>\n",
       "      <td>37905.341530</td>\n",
       "      <td>3.726421</td>\n",
       "      <td>0.0</td>\n",
       "      <td>25783.096248</td>\n",
       "    </tr>\n",
       "    <tr>\n",
       "      <td>min</td>\n",
       "      <td>0.000000</td>\n",
       "      <td>1000.000000</td>\n",
       "      <td>0.000000</td>\n",
       "      <td>5000.000000</td>\n",
       "      <td>0.000000</td>\n",
       "      <td>0.0</td>\n",
       "      <td>1067.000000</td>\n",
       "    </tr>\n",
       "    <tr>\n",
       "      <td>25%</td>\n",
       "      <td>1050.000000</td>\n",
       "      <td>1999.000000</td>\n",
       "      <td>69.000000</td>\n",
       "      <td>125000.000000</td>\n",
       "      <td>3.000000</td>\n",
       "      <td>0.0</td>\n",
       "      <td>30165.000000</td>\n",
       "    </tr>\n",
       "    <tr>\n",
       "      <td>50%</td>\n",
       "      <td>2700.000000</td>\n",
       "      <td>2003.000000</td>\n",
       "      <td>105.000000</td>\n",
       "      <td>150000.000000</td>\n",
       "      <td>6.000000</td>\n",
       "      <td>0.0</td>\n",
       "      <td>49413.000000</td>\n",
       "    </tr>\n",
       "    <tr>\n",
       "      <td>75%</td>\n",
       "      <td>6400.000000</td>\n",
       "      <td>2008.000000</td>\n",
       "      <td>143.000000</td>\n",
       "      <td>150000.000000</td>\n",
       "      <td>9.000000</td>\n",
       "      <td>0.0</td>\n",
       "      <td>71083.000000</td>\n",
       "    </tr>\n",
       "    <tr>\n",
       "      <td>max</td>\n",
       "      <td>20000.000000</td>\n",
       "      <td>9999.000000</td>\n",
       "      <td>20000.000000</td>\n",
       "      <td>150000.000000</td>\n",
       "      <td>12.000000</td>\n",
       "      <td>0.0</td>\n",
       "      <td>99998.000000</td>\n",
       "    </tr>\n",
       "  </tbody>\n",
       "</table>\n",
       "</div>"
      ],
      "text/plain": [
       "               Price  RegistrationYear          Power      Kilometer  \\\n",
       "count  354369.000000     354369.000000  354369.000000  354369.000000   \n",
       "mean     4416.656776       2004.234448     110.094337  128211.172535   \n",
       "std      4514.158514         90.227958     189.850405   37905.341530   \n",
       "min         0.000000       1000.000000       0.000000    5000.000000   \n",
       "25%      1050.000000       1999.000000      69.000000  125000.000000   \n",
       "50%      2700.000000       2003.000000     105.000000  150000.000000   \n",
       "75%      6400.000000       2008.000000     143.000000  150000.000000   \n",
       "max     20000.000000       9999.000000   20000.000000  150000.000000   \n",
       "\n",
       "       RegistrationMonth  NumberOfPictures     PostalCode  \n",
       "count      354369.000000          354369.0  354369.000000  \n",
       "mean            5.714645               0.0   50508.689087  \n",
       "std             3.726421               0.0   25783.096248  \n",
       "min             0.000000               0.0    1067.000000  \n",
       "25%             3.000000               0.0   30165.000000  \n",
       "50%             6.000000               0.0   49413.000000  \n",
       "75%             9.000000               0.0   71083.000000  \n",
       "max            12.000000               0.0   99998.000000  "
      ]
     },
     "execution_count": 3,
     "metadata": {},
     "output_type": "execute_result"
    }
   ],
   "source": [
    "data.describe()"
   ]
  },
  {
   "cell_type": "markdown",
   "metadata": {},
   "source": [
    "Удалим колонки которые явно не имеют смысла для предсказания цены:\n",
    "1. `DateCrawled` - дата получения объявления из базы\n",
    "2. `DateCreated` - дата создания объявления\n",
    "3. `LastSeen` - последняя активность пользователя\n",
    "4. `NumberOfPictures` -   количество фото, оно везде равно 0\n",
    "\n",
    "Дополнительно выделим категориальные колонки"
   ]
  },
  {
   "cell_type": "code",
   "execution_count": 4,
   "metadata": {},
   "outputs": [],
   "source": [
    "col_to_drop = ['DateCrawled', 'LastSeen', 'DateCreated', 'NumberOfPictures']\n",
    "data = data.drop(columns=col_to_drop)\n",
    "\n",
    "cat_col = ['VehicleType', 'Gearbox', 'Model', 'FuelType',\n",
    "           'Brand', 'RegistrationMonth', 'NotRepaired']"
   ]
  },
  {
   "cell_type": "markdown",
   "metadata": {},
   "source": [
    "Посмотрим пропуски в оставшихся колонках"
   ]
  },
  {
   "cell_type": "code",
   "execution_count": 5,
   "metadata": {},
   "outputs": [
    {
     "data": {
      "text/html": [
       "<div>\n",
       "<style scoped>\n",
       "    .dataframe tbody tr th:only-of-type {\n",
       "        vertical-align: middle;\n",
       "    }\n",
       "\n",
       "    .dataframe tbody tr th {\n",
       "        vertical-align: top;\n",
       "    }\n",
       "\n",
       "    .dataframe thead th {\n",
       "        text-align: right;\n",
       "    }\n",
       "</style>\n",
       "<table border=\"1\" class=\"dataframe\">\n",
       "  <thead>\n",
       "    <tr style=\"text-align: right;\">\n",
       "      <th></th>\n",
       "      <th>percent</th>\n",
       "      <th>abs</th>\n",
       "    </tr>\n",
       "  </thead>\n",
       "  <tbody>\n",
       "    <tr>\n",
       "      <td>NotRepaired</td>\n",
       "      <td>0.200791</td>\n",
       "      <td>71154</td>\n",
       "    </tr>\n",
       "    <tr>\n",
       "      <td>VehicleType</td>\n",
       "      <td>0.105794</td>\n",
       "      <td>37490</td>\n",
       "    </tr>\n",
       "    <tr>\n",
       "      <td>FuelType</td>\n",
       "      <td>0.092827</td>\n",
       "      <td>32895</td>\n",
       "    </tr>\n",
       "    <tr>\n",
       "      <td>Gearbox</td>\n",
       "      <td>0.055967</td>\n",
       "      <td>19833</td>\n",
       "    </tr>\n",
       "    <tr>\n",
       "      <td>Model</td>\n",
       "      <td>0.055606</td>\n",
       "      <td>19705</td>\n",
       "    </tr>\n",
       "    <tr>\n",
       "      <td>Price</td>\n",
       "      <td>0.000000</td>\n",
       "      <td>0</td>\n",
       "    </tr>\n",
       "    <tr>\n",
       "      <td>RegistrationYear</td>\n",
       "      <td>0.000000</td>\n",
       "      <td>0</td>\n",
       "    </tr>\n",
       "    <tr>\n",
       "      <td>Power</td>\n",
       "      <td>0.000000</td>\n",
       "      <td>0</td>\n",
       "    </tr>\n",
       "    <tr>\n",
       "      <td>Kilometer</td>\n",
       "      <td>0.000000</td>\n",
       "      <td>0</td>\n",
       "    </tr>\n",
       "    <tr>\n",
       "      <td>RegistrationMonth</td>\n",
       "      <td>0.000000</td>\n",
       "      <td>0</td>\n",
       "    </tr>\n",
       "    <tr>\n",
       "      <td>Brand</td>\n",
       "      <td>0.000000</td>\n",
       "      <td>0</td>\n",
       "    </tr>\n",
       "    <tr>\n",
       "      <td>PostalCode</td>\n",
       "      <td>0.000000</td>\n",
       "      <td>0</td>\n",
       "    </tr>\n",
       "  </tbody>\n",
       "</table>\n",
       "</div>"
      ],
      "text/plain": [
       "                    percent    abs\n",
       "NotRepaired        0.200791  71154\n",
       "VehicleType        0.105794  37490\n",
       "FuelType           0.092827  32895\n",
       "Gearbox            0.055967  19833\n",
       "Model              0.055606  19705\n",
       "Price              0.000000      0\n",
       "RegistrationYear   0.000000      0\n",
       "Power              0.000000      0\n",
       "Kilometer          0.000000      0\n",
       "RegistrationMonth  0.000000      0\n",
       "Brand              0.000000      0\n",
       "PostalCode         0.000000      0"
      ]
     },
     "execution_count": 5,
     "metadata": {},
     "output_type": "execute_result"
    }
   ],
   "source": [
    "def show_na(df):\n",
    "    data_info = (df.isna() | df.isnull()).sum()\n",
    "    res = (pd.concat([data_info / df.shape[0], data_info], axis=1,  keys=['percent', 'abs'])\n",
    "           .sort_values('percent', ascending=False))\n",
    "    return res\n",
    "\n",
    "show_na(data)"
   ]
  },
  {
   "cell_type": "markdown",
   "metadata": {},
   "source": [
    "Заполним пропуски в категориальных фичах текстом 'Nan'"
   ]
  },
  {
   "cell_type": "code",
   "execution_count": 6,
   "metadata": {},
   "outputs": [],
   "source": [
    "data[cat_col] = data[cat_col].fillna('Nan')"
   ]
  },
  {
   "cell_type": "markdown",
   "metadata": {},
   "source": [
    "Выделим целевое значение и признаки\n",
    "\n",
    "Разобьем данные на train и test, в соотношении 4 к 1\n",
    "\n",
    "Train дополнительно разобьем на train_valid и valid, так же в соотношении 4 к 1"
   ]
  },
  {
   "cell_type": "code",
   "execution_count": 7,
   "metadata": {},
   "outputs": [
    {
     "name": "stdout",
     "output_type": "stream",
     "text": [
      "Valid shapes:\n",
      "(226796, 11) (56699, 11) (226796,) (56699,)\n",
      "Train/test shapes:\n",
      "(283495, 11) (70874, 11) (283495,) (70874,)\n"
     ]
    }
   ],
   "source": [
    "X = data.drop(columns='Price')\n",
    "y = data['Price']\n",
    "\n",
    "X_train, X_test, y_train, y_test = train_test_split(X, y, test_size=0.2, random_state=SEED)\n",
    "X_train_valid, X_valid, y_train_valid, y_valid = train_test_split(X_train, y_train, test_size=0.2, random_state=SEED)\n",
    "\n",
    "print('Valid shapes:')\n",
    "print(X_train_valid.shape, X_valid.shape, y_train_valid.shape, y_valid.shape)\n",
    "print('Train/test shapes:')\n",
    "print(X_train.shape, X_test.shape, y_train.shape, y_test.shape)"
   ]
  },
  {
   "cell_type": "markdown",
   "metadata": {},
   "source": [
    "# 2. Обучение моделей"
   ]
  },
  {
   "cell_type": "markdown",
   "metadata": {},
   "source": [
    "Действовать будем по следующему плану:\n",
    "1. Напишем функцию которой на вход будут подаваться модель и датасеты и она будет возвращать время обучения, время предсказания и rmse\n",
    "1. Проверим 3 модели: Ridge, CatBoost, LightGBM.\n",
    "1. Для каждой моделии найдем лучшие гиперпараметры, и измерим время обучения на train\n",
    "1. Сведем данные по всем моделям в 1 таблицу\n",
    "\n"
   ]
  },
  {
   "cell_type": "code",
   "execution_count": 8,
   "metadata": {},
   "outputs": [],
   "source": [
    "def model_eval(model, X_train, y_train, X_test, y_test):\n",
    "    \n",
    "    start = time.time()    \n",
    "    model.fit(X_train, y_train)\n",
    "    training_time = time.time() - start\n",
    "    \n",
    "    start = time.time()  \n",
    "    y_pred = model.predict(X_test)\n",
    "    predict_time = time.time() - start\n",
    "\n",
    "    return training_time, predict_time, mse(y_test, y_pred)**0.5"
   ]
  },
  {
   "cell_type": "markdown",
   "metadata": {},
   "source": [
    "#### Ridge\n",
    "1. Подготовим пайплайн: OHE -> scaler -> ridge\n",
    "1. На кросс валидации найдем лучшие параметры модели\n",
    "1. Измерим время обучения и запишем результаты на тесте."
   ]
  },
  {
   "cell_type": "code",
   "execution_count": 25,
   "metadata": {},
   "outputs": [],
   "source": [
    "res = []"
   ]
  },
  {
   "cell_type": "code",
   "execution_count": 10,
   "metadata": {},
   "outputs": [],
   "source": [
    "pipe = Pipeline([\n",
    "    ('ohe', OneHotEncoder(handle_unknown='ignore')),\n",
    "    ('scaler', StandardScaler(with_mean=False)),\n",
    "    ('model', Ridge(random_state=SEED))\n",
    "])\n",
    "\n",
    "params = [\n",
    "    {\n",
    "        'model__alpha': np.logspace(-2, 2, 20)\n",
    "    } \n",
    "]\n"
   ]
  },
  {
   "cell_type": "markdown",
   "metadata": {},
   "source": [
    "<font color=\"blue\">Ridge - оригинально, не встречал еще эту модель. Лайк. Отдельный лайк что делаешь OHE"
   ]
  },
  {
   "cell_type": "code",
   "execution_count": 11,
   "metadata": {},
   "outputs": [],
   "source": [
    "cv = KFold(n_splits=3, shuffle=True, random_state=SEED)\n",
    "\n",
    "grid = GridSearchCV(pipe,\n",
    "                    param_grid=params,\n",
    "                    cv=cv,\n",
    "                    scoring='neg_mean_squared_error',\n",
    "                    n_jobs=-1,\n",
    "                    verbose=False)"
   ]
  },
  {
   "cell_type": "code",
   "execution_count": 12,
   "metadata": {},
   "outputs": [
    {
     "name": "stdout",
     "output_type": "stream",
     "text": [
      "CPU times: user 4min 16s, sys: 2.9 s, total: 4min 19s\n",
      "Wall time: 4min 21s\n"
     ]
    },
    {
     "data": {
      "text/plain": [
       "GridSearchCV(cv=KFold(n_splits=3, random_state=21, shuffle=True),\n",
       "             error_score='raise-deprecating',\n",
       "             estimator=Pipeline(memory=None,\n",
       "                                steps=[('ohe',\n",
       "                                        OneHotEncoder(categorical_features=None,\n",
       "                                                      categories=None,\n",
       "                                                      drop=None,\n",
       "                                                      dtype=<class 'numpy.float64'>,\n",
       "                                                      handle_unknown='ignore',\n",
       "                                                      n_values=None,\n",
       "                                                      sparse=True)),\n",
       "                                       ('scaler',\n",
       "                                        StandardScaler(copy=True,\n",
       "                                                       with_mean=False,\n",
       "                                                       with_std=Tru...\n",
       "       6.95192796e-02, 1.12883789e-01, 1.83298071e-01, 2.97635144e-01,\n",
       "       4.83293024e-01, 7.84759970e-01, 1.27427499e+00, 2.06913808e+00,\n",
       "       3.35981829e+00, 5.45559478e+00, 8.85866790e+00, 1.43844989e+01,\n",
       "       2.33572147e+01, 3.79269019e+01, 6.15848211e+01, 1.00000000e+02])}],\n",
       "             pre_dispatch='2*n_jobs', refit=True, return_train_score=False,\n",
       "             scoring='neg_mean_squared_error', verbose=False)"
      ]
     },
     "execution_count": 12,
     "metadata": {},
     "output_type": "execute_result"
    }
   ],
   "source": [
    "%%time\n",
    "grid.fit(X_train_valid, y_train_valid);"
   ]
  },
  {
   "cell_type": "code",
   "execution_count": 13,
   "metadata": {},
   "outputs": [
    {
     "data": {
      "text/plain": [
       "{'model__alpha': 100.0}"
      ]
     },
     "execution_count": 13,
     "metadata": {},
     "output_type": "execute_result"
    }
   ],
   "source": [
    "grid.best_params_"
   ]
  },
  {
   "cell_type": "code",
   "execution_count": 26,
   "metadata": {},
   "outputs": [],
   "source": [
    "res.append(model_eval(grid.best_estimator_, X_train_valid, y_train_valid, X_valid, y_valid))"
   ]
  },
  {
   "cell_type": "markdown",
   "metadata": {},
   "source": [
    "#### LightGBM\n",
    "1. Готовим категориальные признаки через Label Encoder\n",
    "1. Ищем лучшие параметры по сетке используя Scikit-learn API\n",
    "1. Обучаем модель на всей train выборке и замеряем время и RMSE"
   ]
  },
  {
   "cell_type": "code",
   "execution_count": 33,
   "metadata": {},
   "outputs": [],
   "source": [
    "encoder = LabelEncoder()\n",
    "\n",
    "lgb_train = X_train_valid.copy()\n",
    "lgb_test = X_valid.copy()\n",
    "lgb_full_train = X_train.copy()\n",
    "lgb_full_test = X_test.copy()\n",
    "\n",
    "\n",
    "cat_col_num = []\n",
    "\n",
    "for col in cat_col:\n",
    "    lgb_train[col] = encoder.fit_transform(lgb_train[col])\n",
    "    lgb_test[col] = encoder.transform(lgb_test[col])\n",
    "    lgb_full_train[col] = encoder.fit_transform(lgb_full_train[col])\n",
    "    lgb_full_test[col] = encoder.transform(lgb_full_test[col])\n",
    "    cat_col_num.append(data.columns.to_list().index(col))\n",
    "\n",
    "gbm = lgb.LGBMRegressor(boosting_type='gbdt', verbose=0, seed=SEED)\n",
    "\n",
    "\n",
    "params = {\n",
    "    'learning_rate': np.logspace(-3, 0, 5),\n",
    "    'n_estimators': [40, 60],\n",
    "    'num_leaves': [21, 31, 41],\n",
    "}\n",
    "\n",
    "grid_gbm = GridSearchCV(gbm,\n",
    "                        params,\n",
    "                        cv=cv,\n",
    "                        scoring='neg_mean_squared_error',\n",
    "                        verbose=True)"
   ]
  },
  {
   "cell_type": "code",
   "execution_count": 16,
   "metadata": {},
   "outputs": [
    {
     "name": "stdout",
     "output_type": "stream",
     "text": [
      "Fitting 3 folds for each of 30 candidates, totalling 90 fits\n"
     ]
    },
    {
     "name": "stderr",
     "output_type": "stream",
     "text": [
      "[Parallel(n_jobs=1)]: Using backend SequentialBackend with 1 concurrent workers.\n",
      "[Parallel(n_jobs=1)]: Done  90 out of  90 | elapsed:  5.5min finished\n"
     ]
    },
    {
     "name": "stdout",
     "output_type": "stream",
     "text": [
      "CPU times: user 5min 29s, sys: 1.28 s, total: 5min 31s\n",
      "Wall time: 5min 34s\n"
     ]
    },
    {
     "data": {
      "text/plain": [
       "GridSearchCV(cv=KFold(n_splits=3, random_state=21, shuffle=True),\n",
       "             error_score='raise-deprecating',\n",
       "             estimator=LGBMRegressor(boosting_type='gbdt', class_weight=None,\n",
       "                                     colsample_bytree=1.0,\n",
       "                                     importance_type='split', learning_rate=0.1,\n",
       "                                     max_depth=-1, min_child_samples=20,\n",
       "                                     min_child_weight=0.001, min_split_gain=0.0,\n",
       "                                     n_estimators=100, n_jobs=-1, num_leaves=31,\n",
       "                                     objective=No...\n",
       "                                     reg_alpha=0.0, reg_lambda=0.0, seed=21,\n",
       "                                     silent=True, subsample=1.0,\n",
       "                                     subsample_for_bin=200000, subsample_freq=0,\n",
       "                                     verbose=0),\n",
       "             iid='warn', n_jobs=None,\n",
       "             param_grid={'learning_rate': array([0.001     , 0.00562341, 0.03162278, 0.17782794, 1.        ]),\n",
       "                         'n_estimators': [40, 60], 'num_leaves': [21, 31, 41]},\n",
       "             pre_dispatch='2*n_jobs', refit=True, return_train_score=False,\n",
       "             scoring='neg_mean_squared_error', verbose=True)"
      ]
     },
     "execution_count": 16,
     "metadata": {},
     "output_type": "execute_result"
    }
   ],
   "source": [
    "%%time\n",
    "grid_gbm.fit(lgb_train, y_train_valid);"
   ]
  },
  {
   "cell_type": "code",
   "execution_count": 17,
   "metadata": {},
   "outputs": [
    {
     "data": {
      "text/plain": [
       "{'learning_rate': 0.1778279410038923, 'n_estimators': 60, 'num_leaves': 41}"
      ]
     },
     "execution_count": 17,
     "metadata": {},
     "output_type": "execute_result"
    }
   ],
   "source": [
    "grid_gbm.best_params_"
   ]
  },
  {
   "cell_type": "code",
   "execution_count": 28,
   "metadata": {},
   "outputs": [],
   "source": [
    "res.append(model_eval(grid_gbm.best_estimator_, lgb_train, y_train_valid, lgb_test, y_valid))"
   ]
  },
  {
   "cell_type": "markdown",
   "metadata": {},
   "source": [
    "#### CatBoost\n",
    "1. Все тоже самое что и для прошлых моделей"
   ]
  },
  {
   "cell_type": "code",
   "execution_count": 19,
   "metadata": {},
   "outputs": [],
   "source": [
    "cbr = CatBoostRegressor(random_seed=SEED,\n",
    "                        loss_function='RMSE',\n",
    "                        silent=True,\n",
    "                        cat_features=cat_col)\n",
    "\n",
    "params = {\n",
    "    'learning_rate': np.logspace(-3, 0, 5),\n",
    "    'iterations': [40, 60],\n",
    "    'depth': [6, 8, 10],\n",
    "}\n",
    "\n",
    "grid_cbr = GridSearchCV(cbr,\n",
    "                        params,\n",
    "                        cv=cv,\n",
    "                        scoring='neg_mean_squared_error',\n",
    "                        verbose=False)"
   ]
  },
  {
   "cell_type": "code",
   "execution_count": 20,
   "metadata": {
    "scrolled": false
   },
   "outputs": [
    {
     "name": "stdout",
     "output_type": "stream",
     "text": [
      "CPU times: user 23min 15s, sys: 2min 52s, total: 26min 8s\n",
      "Wall time: 30min 7s\n"
     ]
    },
    {
     "data": {
      "text/plain": [
       "GridSearchCV(cv=KFold(n_splits=3, random_state=21, shuffle=True),\n",
       "             error_score='raise-deprecating',\n",
       "             estimator=<catboost.core.CatBoostRegressor object at 0x7f59025a50d0>,\n",
       "             iid='warn', n_jobs=None,\n",
       "             param_grid={'depth': [6, 8, 10], 'iterations': [40, 60],\n",
       "                         'learning_rate': array([0.001     , 0.00562341, 0.03162278, 0.17782794, 1.        ])},\n",
       "             pre_dispatch='2*n_jobs', refit=True, return_train_score=False,\n",
       "             scoring='neg_mean_squared_error', verbose=False)"
      ]
     },
     "execution_count": 20,
     "metadata": {},
     "output_type": "execute_result"
    }
   ],
   "source": [
    "%%time\n",
    "grid_cbr.fit(X_train_valid, y_train_valid);"
   ]
  },
  {
   "cell_type": "code",
   "execution_count": 21,
   "metadata": {},
   "outputs": [
    {
     "data": {
      "text/plain": [
       "{'depth': 10, 'iterations': 60, 'learning_rate': 0.1778279410038923}"
      ]
     },
     "execution_count": 21,
     "metadata": {},
     "output_type": "execute_result"
    }
   ],
   "source": [
    "grid_cbr.best_params_"
   ]
  },
  {
   "cell_type": "code",
   "execution_count": 30,
   "metadata": {},
   "outputs": [],
   "source": [
    "res.append(model_eval(grid_cbr.best_estimator_, X_train_valid, y_train_valid, X_valid, y_valid))"
   ]
  },
  {
   "cell_type": "markdown",
   "metadata": {},
   "source": [
    "# 3. Анализ моделей\n",
    "\n",
    "Сведем все данные в один датафрейм и посмотрим результаты на валидационной выборке\n",
    "\n",
    "Для выбранной модели посмотрим результат на тесте"
   ]
  },
  {
   "cell_type": "code",
   "execution_count": 31,
   "metadata": {},
   "outputs": [
    {
     "data": {
      "text/html": [
       "<div>\n",
       "<style scoped>\n",
       "    .dataframe tbody tr th:only-of-type {\n",
       "        vertical-align: middle;\n",
       "    }\n",
       "\n",
       "    .dataframe tbody tr th {\n",
       "        vertical-align: top;\n",
       "    }\n",
       "\n",
       "    .dataframe thead th {\n",
       "        text-align: right;\n",
       "    }\n",
       "</style>\n",
       "<table border=\"1\" class=\"dataframe\">\n",
       "  <thead>\n",
       "    <tr style=\"text-align: right;\">\n",
       "      <th></th>\n",
       "      <th>trainig_time</th>\n",
       "      <th>predic_time</th>\n",
       "      <th>score</th>\n",
       "    </tr>\n",
       "  </thead>\n",
       "  <tbody>\n",
       "    <tr>\n",
       "      <td>Ridge</td>\n",
       "      <td>6.332461</td>\n",
       "      <td>0.132203</td>\n",
       "      <td>2165.170417</td>\n",
       "    </tr>\n",
       "    <tr>\n",
       "      <td>LightGBM</td>\n",
       "      <td>5.099348</td>\n",
       "      <td>0.399870</td>\n",
       "      <td>1833.551857</td>\n",
       "    </tr>\n",
       "    <tr>\n",
       "      <td>CatBoost</td>\n",
       "      <td>36.000696</td>\n",
       "      <td>0.156596</td>\n",
       "      <td>1832.514801</td>\n",
       "    </tr>\n",
       "  </tbody>\n",
       "</table>\n",
       "</div>"
      ],
      "text/plain": [
       "          trainig_time  predic_time        score\n",
       "Ridge         6.332461     0.132203  2165.170417\n",
       "LightGBM      5.099348     0.399870  1833.551857\n",
       "CatBoost     36.000696     0.156596  1832.514801"
      ]
     },
     "execution_count": 31,
     "metadata": {},
     "output_type": "execute_result"
    }
   ],
   "source": [
    "pd.DataFrame(data=res,\n",
    "             index=['Ridge', 'LightGBM', 'CatBoost'],\n",
    "             columns=['trainig_time', 'predic_time', 'score'])"
   ]
  },
  {
   "cell_type": "markdown",
   "metadata": {},
   "source": [
    "В данном случае наиболее подходящей моделью, с оптимальным качеством и быстродействием оказался: LightGBM\n",
    "\n",
    "Проверим метрику на тесте"
   ]
  },
  {
   "cell_type": "code",
   "execution_count": 34,
   "metadata": {},
   "outputs": [
    {
     "data": {
      "text/plain": [
       "1820.936835085372"
      ]
     },
     "execution_count": 34,
     "metadata": {},
     "output_type": "execute_result"
    }
   ],
   "source": [
    "model = models[1]\n",
    "model.fit(lgb_full_train, y_train)\n",
    "mse(y_test, model.predict(lgb_full_test))**0.5"
   ]
  },
  {
   "cell_type": "markdown",
   "metadata": {},
   "source": [
    "## Чек-лист проверки"
   ]
  },
  {
   "cell_type": "markdown",
   "metadata": {},
   "source": [
    "Поставьте 'x' в выполненных пунктах. Далее нажмите Shift+Enter."
   ]
  },
  {
   "cell_type": "markdown",
   "metadata": {},
   "source": [
    "- [x]  Jupyter Notebook открыт\n",
    "- [x]  Весь код выполняется без ошибок\n",
    "- [x]  Ячейки с кодом расположены в порядке исполнения\n",
    "- [x]  Выполнена загрузка и подготовка данных\n",
    "- [x]  Выполнено обучение моделей\n",
    "- [x]  Есть анализ скорости работы и качества моделей"
   ]
  }
 ],
 "metadata": {
  "kernelspec": {
   "display_name": "Python 3",
   "language": "python",
   "name": "python3"
  },
  "language_info": {
   "codemirror_mode": {
    "name": "ipython",
    "version": 3
   },
   "file_extension": ".py",
   "mimetype": "text/x-python",
   "name": "python",
   "nbconvert_exporter": "python",
   "pygments_lexer": "ipython3",
   "version": "3.7.4"
  }
 },
 "nbformat": 4,
 "nbformat_minor": 2
}