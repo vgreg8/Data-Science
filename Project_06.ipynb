{
 "cells": [
  {
   "cell_type": "markdown",
   "metadata": {},
   "source": [
    "# Отток клиентов"
   ]
  },
  {
   "cell_type": "markdown",
   "metadata": {},
   "source": [
    "Из «Бета-Банка» стали уходить клиенты. Каждый месяц. Немного, но заметно. Банковские маркетологи посчитали: сохранять текущих клиентов дешевле, чем привлекать новых.\n",
    "\n",
    "Нужно спрогнозировать, уйдёт клиент из банка в ближайшее время или нет. Вам предоставлены исторические данные о поведении клиентов и расторжении договоров с банком. \n",
    "\n",
    "Постройте модель с предельно большим значением *F1*-меры. Чтобы сдать проект успешно, нужно довести метрику до 0.59. Проверьте *F1*-меру на тестовой выборке самостоятельно.\n",
    "\n",
    "Дополнительно измеряйте *AUC-ROC*, сравнивайте её значение с *F1*-мерой.\n",
    "\n",
    "Источник данных: [https://www.kaggle.com/barelydedicated/bank-customer-churn-modeling](https://www.kaggle.com/barelydedicated/bank-customer-churn-modeling)\n",
    "\n",
    "#### Признаки\n",
    "- RowNumber — индекс строки в данных\n",
    "- CustomerId — уникальный идентификатор клиента\n",
    "- Surname — фамилия\n",
    "- CreditScore — кредитный рейтинг\n",
    "- Geography — страна проживания\n",
    "- Gender — пол\n",
    "- Age — возраст\n",
    "- Tenure — количество недвижимости у клиента\n",
    "- Balance — баланс на счёте\n",
    "- NumOfProducts — количество продуктов банка, используемых клиентом\n",
    "- HasCrCard — наличие кредитной карты\n",
    "- IsActiveMember — активность клиента\n",
    "- EstimatedSalary — предполагаемая зарплата\n",
    "\n",
    "#### Целевой признак\n",
    "- Exited — факт ухода клиента\n",
    "\n",
    "### План работы над проектом\n",
    "\n",
    "1. Изучить данные. Разбить данные на тренировочную, валидационную и тестовую выборку.\n",
    "2. Исследовать задачу. Проверить модели на данных без изменений.\n",
    "3. Скоректировать балланс класса. Изменить вес класса, урезать 0 или добавить 1.\n",
    "4. Получить улученную модель. Провести поиск гиперпараметров.\n",
    "5. Провести финальный тест.\n",
    "6. Написать вывод и оформить проект."
   ]
  },
  {
   "cell_type": "markdown",
   "metadata": {},
   "source": [
    "# 1. Подготовка данных"
   ]
  },
  {
   "cell_type": "code",
   "execution_count": 1,
   "metadata": {},
   "outputs": [],
   "source": [
    "import matplotlib.pyplot as plt\n",
    "import numpy as np\n",
    "import pandas as pd\n",
    "from sklearn.model_selection import train_test_split\n",
    "from sklearn.linear_model import LogisticRegression\n",
    "from sklearn.tree import DecisionTreeClassifier\n",
    "from sklearn.ensemble import RandomForestClassifier\n",
    "from sklearn.naive_bayes import GaussianNB\n",
    "from sklearn.metrics import f1_score, precision_score, recall_score, accuracy_score, roc_auc_score, roc_curve\n",
    "from sklearn.utils import shuffle"
   ]
  },
  {
   "cell_type": "code",
   "execution_count": 2,
   "metadata": {},
   "outputs": [
    {
     "name": "stdout",
     "output_type": "stream",
     "text": [
      "<class 'pandas.core.frame.DataFrame'>\n",
      "RangeIndex: 10000 entries, 0 to 9999\n",
      "Data columns (total 14 columns):\n",
      "RowNumber          10000 non-null int64\n",
      "CustomerId         10000 non-null int64\n",
      "Surname            10000 non-null object\n",
      "CreditScore        10000 non-null int64\n",
      "Geography          10000 non-null object\n",
      "Gender             10000 non-null object\n",
      "Age                10000 non-null int64\n",
      "Tenure             9091 non-null float64\n",
      "Balance            10000 non-null float64\n",
      "NumOfProducts      10000 non-null int64\n",
      "HasCrCard          10000 non-null int64\n",
      "IsActiveMember     10000 non-null int64\n",
      "EstimatedSalary    10000 non-null float64\n",
      "Exited             10000 non-null int64\n",
      "dtypes: float64(3), int64(8), object(3)\n",
      "memory usage: 1.1+ MB\n"
     ]
    }
   ],
   "source": [
    "churn_data = pd.read_csv('/datasets/Churn.csv')\n",
    "churn_data.info()"
   ]
  },
  {
   "cell_type": "code",
   "execution_count": 3,
   "metadata": {},
   "outputs": [
    {
     "name": "stdout",
     "output_type": "stream",
     "text": [
      "Уникальные значения столбца RowNumber\n",
      "[    1     2     3 ...  9998  9999 10000]\n",
      "Уникальные значения столбца CustomerId\n",
      "[15634602 15647311 15619304 ... 15584532 15682355 15628319]\n",
      "Уникальные значения столбца Surname\n",
      "['Hargrave' 'Hill' 'Onio' ... 'Kashiwagi' 'Aldridge' 'Burbidge']\n",
      "Уникальные значения столбца CreditScore\n",
      "[619 608 502 699 850 645 822 376 501 684 528 497 476 549 635 616 653 587\n",
      " 726 732 636 510 669 846 577 756 571 574 411 591 533 553 520 722 475 490\n",
      " 804 582 472 465 556 834 660 776 829 637 550 698 585 788 655 601 656 725\n",
      " 511 614 742 687 555 603 751 581 735 661 675 738 813 657 604 519 664 678\n",
      " 757 416 665 777 543 506 493 652 750 729 646 647 808 524 769 730 515 773\n",
      " 814 710 413 623 670 622 785 605 479 685 538 562 721 628 668 828 674 625\n",
      " 432 770 758 795 686 789 589 461 584 579 663 682 793 691 485 650 754 535\n",
      " 716 539 706 586 631 717 800 683 704 615 667 484 480 578 512 606 597 778\n",
      " 514 525 715 580 807 521 759 516 711 618 643 671 689 620 676 572 695 592\n",
      " 567 694 547 594 673 610 767 763 712 703 662 659 523 772 545 634 739 771\n",
      " 681 544 696 766 727 693 557 531 498 651 791 733 811 707 714 782 775 799\n",
      " 602 744 588 747 583 627 731 629 438 642 806 474 559 429 680 749 734 644\n",
      " 626 649 805 718 840 630 654 762 568 613 522 737 648 443 640 540 460 593\n",
      " 801 611 802 745 483 690 492 709 705 560 752 701 537 487 596 702 486 724\n",
      " 548 464 790 534 748 494 590 468 509 818 816 536 753 774 621 569 658 798\n",
      " 641 542 692 639 765 570 638 599 632 779 527 564 833 504 842 508 417 598\n",
      " 741 607 761 848 546 439 755 760 526 713 700 666 566 495 688 612 477 427\n",
      " 839 819 720 459 503 624 529 563 482 796 445 746 786 554 672 787 499 844\n",
      " 450 815 838 803 736 633 600 679 517 792 743 488 421 841 708 507 505 456\n",
      " 435 561 518 565 728 784 552 609 764 697 723 551 444 719 496 541 830 812\n",
      " 677 420 595 617 809 500 826 434 513 478 797 363 399 463 780 452 575 837\n",
      " 794 824 428 823 781 849 489 431 457 768 831 359 820 573 576 558 817 449\n",
      " 440 415 821 530 350 446 425 740 481 783 358 845 451 458 469 423 404 836\n",
      " 473 835 466 491 351 827 843 365 532 414 453 471 401 810 832 470 447 422\n",
      " 825 430 436 426 408 847 418 437 410 454 407 455 462 386 405 383 395 467\n",
      " 433 442 424 448 441 367 412 382 373 419]\n",
      "Уникальные значения столбца Geography\n",
      "['France' 'Spain' 'Germany']\n",
      "Уникальные значения столбца Gender\n",
      "['Female' 'Male']\n",
      "Уникальные значения столбца Age\n",
      "[42 41 39 43 44 50 29 27 31 24 34 25 35 45 58 32 38 46 36 33 40 51 61 49\n",
      " 37 19 66 56 26 21 55 75 22 30 28 65 48 52 57 73 47 54 72 20 67 79 62 53\n",
      " 80 59 68 23 60 70 63 64 18 82 69 74 71 76 77 88 85 84 78 81 92 83]\n",
      "Уникальные значения столбца Tenure\n",
      "[ 2.  1.  8.  7.  4.  6.  3. 10.  5.  9.  0. nan]\n",
      "Уникальные значения столбца Balance\n",
      "[     0.    83807.86 159660.8  ...  57369.61  75075.31 130142.79]\n",
      "Уникальные значения столбца NumOfProducts\n",
      "[1 3 2 4]\n",
      "Уникальные значения столбца HasCrCard\n",
      "[1 0]\n",
      "Уникальные значения столбца IsActiveMember\n",
      "[1 0]\n",
      "Уникальные значения столбца EstimatedSalary\n",
      "[101348.88 112542.58 113931.57 ...  42085.58  92888.52  38190.78]\n",
      "Уникальные значения столбца Exited\n",
      "[1 0]\n"
     ]
    }
   ],
   "source": [
    "def check_columns(data_frame):\n",
    "    for column in data_frame.columns:\n",
    "        print('Уникальные значения столбца', column)\n",
    "        print(data_frame[column].unique())\n",
    "        \n",
    "check_columns(churn_data)"
   ]
  },
  {
   "cell_type": "markdown",
   "metadata": {},
   "source": [
    "Заменим все NaN из столбца Tenure на 0. Если жилье не указано, скорей всего его нет."
   ]
  },
  {
   "cell_type": "code",
   "execution_count": 4,
   "metadata": {},
   "outputs": [
    {
     "data": {
      "text/plain": [
       "RowNumber          0.0\n",
       "CustomerId         0.0\n",
       "Surname            0.0\n",
       "CreditScore        0.0\n",
       "Geography          0.0\n",
       "Gender             0.0\n",
       "Age                0.0\n",
       "Tenure             0.0\n",
       "Balance            0.0\n",
       "NumOfProducts      0.0\n",
       "HasCrCard          0.0\n",
       "IsActiveMember     0.0\n",
       "EstimatedSalary    0.0\n",
       "Exited             0.0\n",
       "dtype: float64"
      ]
     },
     "execution_count": 4,
     "metadata": {},
     "output_type": "execute_result"
    }
   ],
   "source": [
    "churn_data['Tenure'] = churn_data['Tenure'].fillna(0)\n",
    "churn_data.isna().mean()"
   ]
  },
  {
   "cell_type": "code",
   "execution_count": 5,
   "metadata": {},
   "outputs": [
    {
     "data": {
      "text/plain": [
       "0.0     1291\n",
       "1.0      952\n",
       "2.0      950\n",
       "8.0      933\n",
       "3.0      928\n",
       "5.0      927\n",
       "7.0      925\n",
       "4.0      885\n",
       "9.0      882\n",
       "6.0      881\n",
       "10.0     446\n",
       "Name: Tenure, dtype: int64"
      ]
     },
     "execution_count": 5,
     "metadata": {},
     "output_type": "execute_result"
    }
   ],
   "source": [
    "churn_data['Tenure'].value_counts()"
   ]
  },
  {
   "cell_type": "markdown",
   "metadata": {},
   "source": [
    "Удалим столбецы RowNumber, CustomerId и Surname. Они не нужны при исследовании модели. \n",
    "\n",
    "RowNumber повторяет индекс датафрейма, CustomerId - случайный или последовательный номер, который никак не зависит от действий пользователя. Surname - признак, который отличается от человека к человеку и является именем в обществе. Это не гарант того, что клиент останется или уйдет."
   ]
  },
  {
   "cell_type": "code",
   "execution_count": 6,
   "metadata": {},
   "outputs": [
    {
     "data": {
      "text/plain": [
       "(10000, 11)"
      ]
     },
     "execution_count": 6,
     "metadata": {},
     "output_type": "execute_result"
    }
   ],
   "source": [
    "churn_data = churn_data.drop(['RowNumber','CustomerId','Surname'], axis=1)\n",
    "churn_data.shape"
   ]
  },
  {
   "cell_type": "markdown",
   "metadata": {},
   "source": [
    "Создадим датафрейм, созданный по методу прямого кодирования с защитой от дамми-ловушки."
   ]
  },
  {
   "cell_type": "code",
   "execution_count": 7,
   "metadata": {},
   "outputs": [
    {
     "name": "stdout",
     "output_type": "stream",
     "text": [
      "<class 'pandas.core.frame.DataFrame'>\n",
      "RangeIndex: 10000 entries, 0 to 9999\n",
      "Data columns (total 12 columns):\n",
      "CreditScore          10000 non-null int64\n",
      "Age                  10000 non-null int64\n",
      "Tenure               10000 non-null float64\n",
      "Balance              10000 non-null float64\n",
      "NumOfProducts        10000 non-null int64\n",
      "HasCrCard            10000 non-null int64\n",
      "IsActiveMember       10000 non-null int64\n",
      "EstimatedSalary      10000 non-null float64\n",
      "Exited               10000 non-null int64\n",
      "Geography_Germany    10000 non-null uint8\n",
      "Geography_Spain      10000 non-null uint8\n",
      "Gender_Male          10000 non-null uint8\n",
      "dtypes: float64(3), int64(6), uint8(3)\n",
      "memory usage: 732.5 KB\n"
     ]
    }
   ],
   "source": [
    "ohe_churn_data = pd.get_dummies(churn_data, drop_first=True)\n",
    "ohe_churn_data.info()"
   ]
  },
  {
   "cell_type": "markdown",
   "metadata": {},
   "source": [
    "### Вывод по шагу 1\n",
    "\n",
    "Данные готовы к исследованию.\n",
    "\n",
    "Были удалены не влияющие на конечный фактор данные. Мы создаем модель классификации, который нужно отдать признаки, реально влияющие на суть дела."
   ]
  },
  {
   "cell_type": "markdown",
   "metadata": {},
   "source": [
    "# 2. Исследование задачи"
   ]
  },
  {
   "cell_type": "markdown",
   "metadata": {},
   "source": [
    "Будем использовать следующие модели:\n",
    "- Логистическая регрессия\n",
    "- Случайный лес\n",
    "- Решающее дерево\n",
    "- GaussianNB\n",
    "\n",
    "Разобъем данные по принципу 60/20/20."
   ]
  },
  {
   "cell_type": "code",
   "execution_count": 8,
   "metadata": {},
   "outputs": [
    {
     "name": "stdout",
     "output_type": "stream",
     "text": [
      "(6000, 11) (2000, 11) (2000, 11)\n",
      "(6000,) (2000,) (2000,)\n"
     ]
    }
   ],
   "source": [
    "target = ohe_churn_data['Exited']\n",
    "features = ohe_churn_data.drop('Exited', axis=1)\n",
    "\n",
    "features_train, features_valid, target_train, target_valid = train_test_split(features, target, test_size=0.4, \n",
    "                                                                              random_state=20052020)\n",
    "features_valid, features_test, target_valid, target_test = train_test_split(features_valid, target_valid, test_size=0.5, \n",
    "                                                                              random_state=20052020 )\n",
    "print(features_train.shape, features_valid.shape, features_test.shape)\n",
    "print(target_train.shape, target_valid.shape, target_test.shape)"
   ]
  },
  {
   "cell_type": "markdown",
   "metadata": {},
   "source": [
    "Посмотрим, какой существует дисбаланс классов."
   ]
  },
  {
   "cell_type": "code",
   "execution_count": 9,
   "metadata": {},
   "outputs": [
    {
     "data": {
      "text/plain": [
       "0    7963\n",
       "1    2037\n",
       "Name: Exited, dtype: int64"
      ]
     },
     "execution_count": 9,
     "metadata": {},
     "output_type": "execute_result"
    }
   ],
   "source": [
    "target.value_counts()"
   ]
  },
  {
   "cell_type": "markdown",
   "metadata": {},
   "source": [
    "Соотношение классов 1:4. Изучим модели без исправление баланса."
   ]
  },
  {
   "cell_type": "markdown",
   "metadata": {},
   "source": [
    "Начнем с решающего дерева. Проведем исследование при разном значении max_depth."
   ]
  },
  {
   "cell_type": "code",
   "execution_count": 10,
   "metadata": {},
   "outputs": [
    {
     "name": "stdout",
     "output_type": "stream",
     "text": [
      "Max depth 2 F1-score 0.5247813411078718\n",
      "Max depth 3 F1-score 0.5514285714285715\n",
      "Max depth 4 F1-score 0.49185667752443\n",
      "Max depth 5 F1-score 0.5421686746987953\n",
      "Max depth 6 F1-score 0.5852272727272727\n",
      "Max depth 7 F1-score 0.6134453781512604\n",
      "Max depth 8 F1-score 0.5632183908045977\n",
      "Max depth 9 F1-score 0.583883751651255\n",
      "Max depth 10 F1-score 0.5511811023622049\n",
      "Max depth 11 F1-score 0.5487179487179488\n",
      "Max depth 12 F1-score 0.5363984674329502\n",
      "Max depth 13 F1-score 0.5088607594936709\n",
      "Max depth 14 F1-score 0.5153374233128835\n",
      "Max depth 15 F1-score 0.5198555956678701\n",
      "Max depth 16 F1-score 0.5117370892018779\n",
      "Max depth 17 F1-score 0.5179190751445086\n",
      "Max depth 18 F1-score 0.5228604923798359\n",
      "Max depth 19 F1-score 0.48786127167630056\n",
      "Max depth 20 F1-score 0.49709639953542395\n",
      "Max depth 21 F1-score 0.491186839012926\n",
      "Max depth 22 F1-score 0.4872389791183295\n",
      "Max depth 23 F1-score 0.5022935779816514\n",
      "Max depth 24 F1-score 0.48561565017261216\n",
      "Max depth 25 F1-score 0.5034802784222738\n",
      "Max depth 26 F1-score 0.5034802784222738\n",
      "Max depth 27 F1-score 0.5034802784222738\n",
      "Max depth 28 F1-score 0.5034802784222738\n",
      "Max depth 29 F1-score 0.5034802784222738\n",
      "CPU times: user 957 ms, sys: 27.9 ms, total: 985 ms\n",
      "Wall time: 1.03 s\n"
     ]
    }
   ],
   "source": [
    "%%time\n",
    "\n",
    "for depth in range(2, 30):\n",
    "    model = DecisionTreeClassifier(random_state=20052020, max_depth=depth)\n",
    "    model.fit(features_train, target_train)\n",
    "    predicted_valid = model.predict(features_valid)\n",
    "    print('Max depth', depth,'F1-score', f1_score(target_valid, predicted_valid))"
   ]
  },
  {
   "cell_type": "markdown",
   "metadata": {},
   "source": [
    "Лучший реультат был достигнут на глубине 7."
   ]
  },
  {
   "cell_type": "markdown",
   "metadata": {},
   "source": [
    "Рассмотрим, как себя ведет случайный лес. И проведем исследование на разное количество деревьев."
   ]
  },
  {
   "cell_type": "code",
   "execution_count": 11,
   "metadata": {},
   "outputs": [
    {
     "name": "stdout",
     "output_type": "stream",
     "text": [
      "N estimators 50 F1 0.6235955056179775\n",
      "N estimators 60 F1 0.6234132581100141\n",
      "N estimators 70 F1 0.6207865168539325\n",
      "N estimators 80 F1 0.6156028368794326\n",
      "N estimators 90 F1 0.612994350282486\n",
      "N estimators 100 F1 0.6160337552742616\n",
      "N estimators 110 F1 0.6143057503506311\n",
      "N estimators 120 F1 0.6145251396648045\n",
      "N estimators 130 F1 0.6125874125874126\n",
      "N estimators 140 F1 0.6106442577030813\n",
      "N estimators 150 F1 0.6100278551532032\n",
      "N estimators 160 F1 0.6145251396648045\n",
      "N estimators 170 F1 0.6128133704735377\n",
      "N estimators 180 F1 0.6155988857938718\n",
      "N estimators 190 F1 0.6119610570236439\n",
      "N estimators 200 F1 0.6181818181818182\n",
      "N estimators 210 F1 0.6175243393602226\n",
      "N estimators 220 F1 0.6175243393602226\n",
      "N estimators 230 F1 0.6213592233009709\n",
      "N estimators 240 F1 0.6194444444444445\n",
      "N estimators 250 F1 0.6203059805285119\n",
      "N estimators 260 F1 0.6166666666666667\n",
      "N estimators 270 F1 0.6166666666666667\n",
      "N estimators 280 F1 0.6203059805285119\n",
      "N estimators 290 F1 0.6194444444444445\n",
      "CPU times: user 41.1 s, sys: 326 ms, total: 41.4 s\n",
      "Wall time: 41.7 s\n"
     ]
    }
   ],
   "source": [
    "%%time\n",
    "\n",
    "for estimator in range(50, 300, 10):\n",
    "    model =  RandomForestClassifier(random_state=20052020, n_estimators=estimator)\n",
    "    model.fit(features_train, target_train)\n",
    "    predicted_valid = model.predict(features_valid)\n",
    "    print('N estimators', estimator,'F1', f1_score(target_valid, predicted_valid))"
   ]
  },
  {
   "cell_type": "markdown",
   "metadata": {},
   "source": [
    "Лучший результат был получен в районе 50-60 n_estimators. Сделаем исследование с шагом 1."
   ]
  },
  {
   "cell_type": "code",
   "execution_count": 12,
   "metadata": {},
   "outputs": [
    {
     "name": "stdout",
     "output_type": "stream",
     "text": [
      "N estimators 40 F1 0.6140845070422536\n",
      "N estimators 41 F1 0.6185852981969486\n",
      "N estimators 42 F1 0.6162464985994398\n",
      "N estimators 43 F1 0.6155988857938718\n",
      "N estimators 44 F1 0.6160337552742616\n",
      "N estimators 45 F1 0.6145251396648045\n",
      "N estimators 46 F1 0.6123595505617977\n",
      "N estimators 47 F1 0.6164574616457461\n",
      "N estimators 48 F1 0.615819209039548\n",
      "N estimators 49 F1 0.6213592233009709\n",
      "N estimators 50 F1 0.6235955056179775\n",
      "N estimators 51 F1 0.6222222222222222\n",
      "N estimators 52 F1 0.6246498599439776\n",
      "N estimators 53 F1 0.6248256624825662\n",
      "N estimators 54 F1 0.6227208976157083\n",
      "N estimators 55 F1 0.6239554317548746\n",
      "N estimators 56 F1 0.6186440677966101\n",
      "N estimators 57 F1 0.6201117318435754\n",
      "N estimators 58 F1 0.6227208976157083\n",
      "N estimators 59 F1 0.6211699164345404\n",
      "N estimators 60 F1 0.6234132581100141\n",
      "CPU times: user 10.3 s, sys: 56 ms, total: 10.4 s\n",
      "Wall time: 10.5 s\n"
     ]
    }
   ],
   "source": [
    "%%time\n",
    "\n",
    "for estimator in range(40, 61, 1):\n",
    "    model =  RandomForestClassifier(random_state=20052020, n_estimators=estimator)\n",
    "    model.fit(features_train, target_train)\n",
    "    predicted_valid = model.predict(features_valid)\n",
    "    print('N estimators', estimator,'F1', f1_score(target_valid, predicted_valid))"
   ]
  },
  {
   "cell_type": "markdown",
   "metadata": {},
   "source": [
    "Лучший результат по гиперпараметру n_estimators достигнут на 53."
   ]
  },
  {
   "cell_type": "markdown",
   "metadata": {},
   "source": [
    "Исследуем, как работает Логистическая регрессия на этих данных."
   ]
  },
  {
   "cell_type": "code",
   "execution_count": 13,
   "metadata": {},
   "outputs": [
    {
     "name": "stdout",
     "output_type": "stream",
     "text": [
      "F1 0.09224318658280924\n",
      "CPU times: user 85.4 ms, sys: 20.3 ms, total: 106 ms\n",
      "Wall time: 108 ms\n"
     ]
    }
   ],
   "source": [
    "%%time\n",
    "\n",
    "model =  LogisticRegression(random_state=20052020, solver='liblinear')\n",
    "model.fit(features_train, target_train)\n",
    "predicted_valid = model.predict(features_valid)\n",
    "print('F1', f1_score(target_valid, predicted_valid))"
   ]
  },
  {
   "cell_type": "markdown",
   "metadata": {},
   "source": [
    "Результаты довольно низкие. Возможно precision или recall низкий и близок к 0."
   ]
  },
  {
   "cell_type": "markdown",
   "metadata": {},
   "source": [
    "Рассмотрим как работает Гаусовская байсовая модель."
   ]
  },
  {
   "cell_type": "code",
   "execution_count": 14,
   "metadata": {},
   "outputs": [
    {
     "name": "stdout",
     "output_type": "stream",
     "text": [
      "F1 0.11507936507936507\n",
      "CPU times: user 8.41 ms, sys: 2.82 ms, total: 11.2 ms\n",
      "Wall time: 9.13 ms\n"
     ]
    }
   ],
   "source": [
    "%%time\n",
    "\n",
    "model =  GaussianNB()\n",
    "model.fit(features_train, target_train)\n",
    "predicted_valid = model.predict(features_valid)\n",
    "print('F1', f1_score(target_valid, predicted_valid))"
   ]
  },
  {
   "cell_type": "markdown",
   "metadata": {},
   "source": [
    "Похожий результат, как и логистической регресии."
   ]
  },
  {
   "cell_type": "markdown",
   "metadata": {},
   "source": [
    "Проведем оценку accuracy,  precision и recall, также покажем F-метрику."
   ]
  },
  {
   "cell_type": "code",
   "execution_count": 15,
   "metadata": {},
   "outputs": [
    {
     "name": "stdout",
     "output_type": "stream",
     "text": [
      "Решающее дерево\n",
      "Точность попадания по классам 0.862\n",
      "Precision 0.773851590106007\n",
      "Recall 0.5081206496519721\n",
      "F1 0.6134453781512604\n",
      "\n",
      "Случайный лес\n",
      "Точность попадания по классам 0.8655\n",
      "Precision 0.7832167832167832\n",
      "Recall 0.5197215777262181\n",
      "F1 0.6248256624825662\n",
      "\n",
      "Логистическая регрессия\n",
      "Точность попадания по классам 0.7835\n",
      "Precision 0.4782608695652174\n",
      "Recall 0.05104408352668213\n",
      "F1 0.09224318658280924\n",
      "\n",
      "Гаусовская байсовая модель\n",
      "Точность попадания по классам 0.777\n",
      "Precision 0.3972602739726027\n",
      "Recall 0.06728538283062645\n",
      "F1 0.11507936507936507\n",
      "\n",
      "CPU times: user 694 ms, sys: 76.6 ms, total: 771 ms\n",
      "Wall time: 788 ms\n"
     ]
    }
   ],
   "source": [
    "%%time\n",
    "\n",
    "model = DecisionTreeClassifier(random_state=20052020, max_depth=7)\n",
    "model.fit(features_train, target_train)\n",
    "predicted_valid = model.predict(features_valid)\n",
    "print('Решающее дерево')\n",
    "print('Точность попадания по классам', accuracy_score(target_valid, predicted_valid))\n",
    "print('Precision', precision_score(target_valid, predicted_valid))\n",
    "print('Recall', recall_score(target_valid, predicted_valid))\n",
    "print('F1', f1_score(target_valid, predicted_valid))\n",
    "print()\n",
    "\n",
    "model = RandomForestClassifier(random_state=20052020, n_estimators=53)\n",
    "model.fit(features_train, target_train)\n",
    "predicted_valid = model.predict(features_valid)\n",
    "print('Случайный лес')\n",
    "print('Точность попадания по классам', accuracy_score(target_valid, predicted_valid))\n",
    "print('Precision', precision_score(target_valid, predicted_valid))\n",
    "print('Recall', recall_score(target_valid, predicted_valid))\n",
    "print('F1', f1_score(target_valid, predicted_valid))\n",
    "print()\n",
    "\n",
    "model = LogisticRegression(random_state=20052020, solver='liblinear')\n",
    "model.fit(features_train, target_train)\n",
    "predicted_valid = model.predict(features_valid)\n",
    "print('Логистическая регрессия')\n",
    "print('Точность попадания по классам', accuracy_score(target_valid, predicted_valid))\n",
    "print('Precision', precision_score(target_valid, predicted_valid))\n",
    "print('Recall', recall_score(target_valid, predicted_valid))\n",
    "print('F1', f1_score(target_valid, predicted_valid))\n",
    "print()\n",
    "\n",
    "model = GaussianNB()\n",
    "model.fit(features_train, target_train)\n",
    "predicted_valid = model.predict(features_valid)\n",
    "print('Гаусовская байсовая модель')\n",
    "print('Точность попадания по классам', accuracy_score(target_valid, predicted_valid))\n",
    "print('Precision', precision_score(target_valid, predicted_valid))\n",
    "print('Recall', recall_score(target_valid, predicted_valid))\n",
    "print('F1', f1_score(target_valid, predicted_valid))\n",
    "print()"
   ]
  },
  {
   "cell_type": "markdown",
   "metadata": {},
   "source": [
    "Проведем построение ROC-кривой для кажддой модели. И выведем показатель AUC-ROC."
   ]
  },
  {
   "cell_type": "code",
   "execution_count": 16,
   "metadata": {},
   "outputs": [
    {
     "name": "stdout",
     "output_type": "stream",
     "text": [
      "AUC-ROC DecisionTreeClassifier 0.8421275614095016\n",
      "AUC-ROC RandomForestClassifier 0.8448706744213215\n",
      "AUC-ROC LogisticRegression 0.682924232408956\n",
      "AUC-ROC GaussianNB 0.7545690207160485\n"
     ]
    },
    {
     "data": {
      "image/png": "[encoded data removed]",
      "text/plain": [
       "<Figure size 864x648 with 1 Axes>"
      ]
     },
     "metadata": {
      "needs_background": "light"
     },
     "output_type": "display_data"
    }
   ],
   "source": [
    "plt.figure(figsize=[12,9])\n",
    "\n",
    "plt.plot([0, 1], [0, 1], linestyle='--', label='RandomModel')\n",
    "\n",
    "\n",
    "model = DecisionTreeClassifier(random_state=20052020, max_depth=7)\n",
    "model.fit(features_train, target_train)\n",
    "probabilities_valid = model.predict_proba(features_valid)\n",
    "probabilities_one_valid = probabilities_valid[:, 1]\n",
    "fpr, tpr, thresholds = roc_curve(target_valid, probabilities_one_valid)\n",
    "auc_roc = roc_auc_score(target_valid, probabilities_one_valid)\n",
    "print('AUC-ROC DecisionTreeClassifier',auc_roc)\n",
    "plt.plot(fpr, tpr, label='DecisionTreeClassifier')\n",
    "\n",
    "model = RandomForestClassifier(random_state=20052020, n_estimators=53)\n",
    "model.fit(features_train, target_train)\n",
    "probabilities_valid = model.predict_proba(features_valid)\n",
    "probabilities_one_valid = probabilities_valid[:, 1]\n",
    "fpr, tpr, thresholds = roc_curve(target_valid, probabilities_one_valid)\n",
    "auc_roc = roc_auc_score(target_valid, probabilities_one_valid)\n",
    "print('AUC-ROC RandomForestClassifier',auc_roc)\n",
    "plt.plot(fpr, tpr, label='RandomForestClassifier')\n",
    "\n",
    "model = LogisticRegression(random_state=20052020, solver='liblinear')\n",
    "model.fit(features_train, target_train)\n",
    "probabilities_valid = model.predict_proba(features_valid)\n",
    "probabilities_one_valid = probabilities_valid[:, 1]\n",
    "fpr, tpr, thresholds = roc_curve(target_valid, probabilities_one_valid)\n",
    "auc_roc = roc_auc_score(target_valid, probabilities_one_valid)\n",
    "print('AUC-ROC LogisticRegression',auc_roc)\n",
    "plt.plot(fpr, tpr, label='LogisticRegression')\n",
    "\n",
    "model = GaussianNB()\n",
    "model.fit(features_train, target_train)\n",
    "probabilities_valid = model.predict_proba(features_valid)\n",
    "probabilities_one_valid = probabilities_valid[:, 1]\n",
    "fpr, tpr, thresholds = roc_curve(target_valid, probabilities_one_valid)\n",
    "auc_roc = roc_auc_score(target_valid, probabilities_one_valid)\n",
    "print('AUC-ROC GaussianNB',auc_roc)\n",
    "plt.plot(fpr, tpr, label='GaussianNB')\n",
    "\n",
    "plt.xlim([0,1])\n",
    "plt.ylim([0,1])\n",
    "\n",
    "plt.xlabel(\"False Positive Rate\")\n",
    "plt.ylabel(\"True Positive Rate\")\n",
    "\n",
    "plt.legend(loc='lower right', fontsize='x-large')\n",
    "\n",
    "plt.title(\"ROC-кривая\")\n",
    "plt.show()"
   ]
  },
  {
   "cell_type": "markdown",
   "metadata": {},
   "source": [
    "По полученным реззультатам можно заменить, что метрика f1 и AUC-ROC лучшая на случаном лесе."
   ]
  },
  {
   "cell_type": "markdown",
   "metadata": {},
   "source": [
    "### Вывод по шагу 2\n",
    "\n",
    "В данных сущестует дисбаланс классов в отношении 1:4.\n",
    "\n",
    "Возможно он влияет на качество изучаемых моделей.\n",
    "\n",
    "Все модели имеют recall ниже, чем percision, из-за перекоса данных, что влияет на F-меру."
   ]
  },
  {
   "cell_type": "markdown",
   "metadata": {},
   "source": [
    "# 3. Борьба с дисбалансом"
   ]
  },
  {
   "cell_type": "markdown",
   "metadata": {},
   "source": [
    "Для борьбы с дисбалансом выполним сравнение моделей:\n",
    "- С взвешенными классами\n",
    "- С уменьшенной выборкой\n",
    "- С увеличенной выборкой"
   ]
  },
  {
   "cell_type": "markdown",
   "metadata": {},
   "source": [
    "Изучим возможности моделей по взвешиванию классов."
   ]
  },
  {
   "cell_type": "code",
   "execution_count": 17,
   "metadata": {},
   "outputs": [
    {
     "name": "stdout",
     "output_type": "stream",
     "text": [
      "Решающее дерево\n",
      "Точность попадания по классам 0.7535\n",
      "Precision 0.45646067415730335\n",
      "Recall 0.7540603248259861\n",
      "F1 0.568678915135608\n",
      "\n",
      "Случайный лес\n",
      "Точность попадания по классам 0.8635\n",
      "Precision 0.8110236220472441\n",
      "Recall 0.4779582366589327\n",
      "F1 0.6014598540145986\n",
      "\n",
      "Логистическая регрессия\n",
      "Точность попадания по классам 0.7015\n",
      "Precision 0.3954659949622166\n",
      "Recall 0.728538283062645\n",
      "F1 0.5126530612244897\n",
      "\n",
      "CPU times: user 669 ms, sys: 32.6 ms, total: 701 ms\n",
      "Wall time: 667 ms\n"
     ]
    }
   ],
   "source": [
    "%%time\n",
    "\n",
    "model = DecisionTreeClassifier(random_state=20052020, max_depth=7, class_weight='balanced')\n",
    "model.fit(features_train, target_train)\n",
    "predicted_valid = model.predict(features_valid)\n",
    "print('Решающее дерево')\n",
    "print('Точность попадания по классам', accuracy_score(target_valid, predicted_valid))\n",
    "print('Precision', precision_score(target_valid, predicted_valid))\n",
    "print('Recall', recall_score(target_valid, predicted_valid))\n",
    "print('F1', f1_score(target_valid, predicted_valid))\n",
    "print()\n",
    "\n",
    "model = RandomForestClassifier(random_state=20052020, n_estimators=53, class_weight='balanced')\n",
    "model.fit(features_train, target_train)\n",
    "predicted_valid = model.predict(features_valid)\n",
    "print('Случайный лес')\n",
    "print('Точность попадания по классам', accuracy_score(target_valid, predicted_valid))\n",
    "print('Precision', precision_score(target_valid, predicted_valid))\n",
    "print('Recall', recall_score(target_valid, predicted_valid))\n",
    "print('F1', f1_score(target_valid, predicted_valid))\n",
    "print()\n",
    "\n",
    "model = LogisticRegression(random_state=20052020, solver='liblinear', class_weight='balanced')\n",
    "model.fit(features_train, target_train)\n",
    "predicted_valid = model.predict(features_valid)\n",
    "print('Логистическая регрессия')\n",
    "print('Точность попадания по классам', accuracy_score(target_valid, predicted_valid))\n",
    "print('Precision', precision_score(target_valid, predicted_valid))\n",
    "print('Recall', recall_score(target_valid, predicted_valid))\n",
    "print('F1', f1_score(target_valid, predicted_valid))\n",
    "print()\n",
    "\n",
    "# у выбранной модели нет возможности взвешивать классы\n",
    "# model = GaussianNB()\n",
    "# model.fit(features_train, target_train)\n",
    "# predicted_valid = model.predict(features_valid)\n",
    "# print('Гаусовская байсовая модель')\n",
    "# print('Точность попадания по классам', accuracy_score(target_valid, predicted_valid))\n",
    "# print('Precision', precision_score(target_valid, predicted_valid))\n",
    "# print('Recall', recall_score(target_valid, predicted_valid))\n",
    "# print('F1', f1_score(target_valid, predicted_valid))\n",
    "# print()"
   ]
  },
  {
   "cell_type": "markdown",
   "metadata": {},
   "source": [
    "F-мера упала у решающего дерева и случайного леса, но выросла в разы у логистической регресии."
   ]
  },
  {
   "cell_type": "markdown",
   "metadata": {},
   "source": [
    "Исследуем способ уменьшения значений класса 0."
   ]
  },
  {
   "cell_type": "code",
   "execution_count": 18,
   "metadata": {},
   "outputs": [
    {
     "name": "stdout",
     "output_type": "stream",
     "text": [
      "1    1202\n",
      "0    1200\n",
      "Name: Exited, dtype: int64\n"
     ]
    }
   ],
   "source": [
    "def downsample(features, target, fraction):\n",
    "    features_zeros = features[target == 0]\n",
    "    features_ones = features[target == 1]\n",
    "    target_zeros = target[target == 0]\n",
    "    target_ones = target[target == 1]\n",
    "\n",
    "    features_downsampled = pd.concat(\n",
    "        [features_zeros.sample(frac=fraction, random_state=20052020)] + [features_ones])\n",
    "    target_downsampled = pd.concat(\n",
    "        [target_zeros.sample(frac=fraction, random_state=20052020)] + [target_ones])\n",
    "    \n",
    "    features_downsampled, target_downsampled = shuffle(\n",
    "        features_downsampled, target_downsampled, random_state=20052020)\n",
    "    \n",
    "    return features_downsampled, target_downsampled\n",
    "\n",
    "features_downsampled, target_downsampled = downsample(features_train, target_train, 0.25)\n",
    "\n",
    "print(target_downsampled.value_counts())"
   ]
  },
  {
   "cell_type": "code",
   "execution_count": 19,
   "metadata": {},
   "outputs": [
    {
     "name": "stdout",
     "output_type": "stream",
     "text": [
      "Решающее дерево\n",
      "Точность попадания по классам 0.7695\n",
      "Precision 0.47706422018348627\n",
      "Recall 0.7238979118329466\n",
      "F1 0.5751152073732718\n",
      "\n",
      "Случайный лес\n",
      "Точность попадания по классам 0.7825\n",
      "Precision 0.49701492537313435\n",
      "Recall 0.7726218097447796\n",
      "F1 0.6049046321525886\n",
      "\n",
      "Логистическая регрессия\n",
      "Точность попадания по классам 0.6575\n",
      "Precision 0.35469107551487417\n",
      "Recall 0.7192575406032483\n",
      "F1 0.47509578544061315\n",
      "\n",
      "Гаусовская байсовая модель\n",
      "Точность попадания по классам 0.7015\n",
      "Precision 0.391644908616188\n",
      "Recall 0.6960556844547564\n",
      "F1 0.5012531328320802\n",
      "\n",
      "CPU times: user 378 ms, sys: 113 ms, total: 491 ms\n",
      "Wall time: 483 ms\n"
     ]
    }
   ],
   "source": [
    "%%time\n",
    "\n",
    "model = DecisionTreeClassifier(random_state=20052020, max_depth=7)\n",
    "model.fit(features_downsampled, target_downsampled)\n",
    "predicted_valid = model.predict(features_valid)\n",
    "print('Решающее дерево')\n",
    "print('Точность попадания по классам', accuracy_score(target_valid, predicted_valid))\n",
    "print('Precision', precision_score(target_valid, predicted_valid))\n",
    "print('Recall', recall_score(target_valid, predicted_valid))\n",
    "print('F1', f1_score(target_valid, predicted_valid))\n",
    "print()\n",
    "\n",
    "model = RandomForestClassifier(random_state=20052020, n_estimators=53)\n",
    "model.fit(features_downsampled, target_downsampled)\n",
    "predicted_valid = model.predict(features_valid)\n",
    "print('Случайный лес')\n",
    "print('Точность попадания по классам', accuracy_score(target_valid, predicted_valid))\n",
    "print('Precision', precision_score(target_valid, predicted_valid))\n",
    "print('Recall', recall_score(target_valid, predicted_valid))\n",
    "print('F1', f1_score(target_valid, predicted_valid))\n",
    "print()\n",
    "\n",
    "model = LogisticRegression(random_state=20052020, solver='liblinear')\n",
    "model.fit(features_downsampled, target_downsampled)\n",
    "predicted_valid = model.predict(features_valid)\n",
    "print('Логистическая регрессия')\n",
    "print('Точность попадания по классам', accuracy_score(target_valid, predicted_valid))\n",
    "print('Precision', precision_score(target_valid, predicted_valid))\n",
    "print('Recall', recall_score(target_valid, predicted_valid))\n",
    "print('F1', f1_score(target_valid, predicted_valid))\n",
    "print()\n",
    "\n",
    "model = GaussianNB()\n",
    "model.fit(features_downsampled, target_downsampled)\n",
    "predicted_valid = model.predict(features_valid)\n",
    "print('Гаусовская байсовая модель')\n",
    "print('Точность попадания по классам', accuracy_score(target_valid, predicted_valid))\n",
    "print('Precision', precision_score(target_valid, predicted_valid))\n",
    "print('Recall', recall_score(target_valid, predicted_valid))\n",
    "print('F1', f1_score(target_valid, predicted_valid))\n",
    "print()"
   ]
  },
  {
   "cell_type": "markdown",
   "metadata": {},
   "source": [
    "Показатели логистической регрессии и гаусовской модели выросли. Решающее дерево и случайный лес показали себя хуже."
   ]
  },
  {
   "cell_type": "markdown",
   "metadata": {},
   "source": [
    "Исследуем методы увеличения класса 1."
   ]
  },
  {
   "cell_type": "code",
   "execution_count": 20,
   "metadata": {},
   "outputs": [
    {
     "name": "stdout",
     "output_type": "stream",
     "text": [
      "1    4808\n",
      "0    4798\n",
      "Name: Exited, dtype: int64\n"
     ]
    }
   ],
   "source": [
    "def upsample(features, target, repeat):\n",
    "    features_zeros = features[target == 0]\n",
    "    features_ones = features[target == 1]\n",
    "    target_zeros = target[target == 0]\n",
    "    target_ones = target[target == 1]\n",
    "\n",
    "    features_upsampled = pd.concat([features_zeros] + [features_ones] * repeat)\n",
    "    target_upsampled = pd.concat([target_zeros] + [target_ones] * repeat)\n",
    "    \n",
    "    features_upsampled, target_upsampled = shuffle(\n",
    "        features_upsampled, target_upsampled, random_state=12345)\n",
    "    \n",
    "    return features_upsampled, target_upsampled\n",
    "\n",
    "features_upsampled, target_upsampled = upsample(features_train, target_train, 4)\n",
    "\n",
    "print(target_upsampled.value_counts())"
   ]
  },
  {
   "cell_type": "code",
   "execution_count": 21,
   "metadata": {},
   "outputs": [
    {
     "name": "stdout",
     "output_type": "stream",
     "text": [
      "Решающее дерево\n",
      "Точность попадания по классам 0.7535\n",
      "Precision 0.45646067415730335\n",
      "Recall 0.7540603248259861\n",
      "F1 0.568678915135608\n",
      "\n",
      "Случайный лес\n",
      "Точность попадания по классам 0.8525\n",
      "Precision 0.6827956989247311\n",
      "Recall 0.5893271461716937\n",
      "F1 0.6326276463262764\n",
      "\n",
      "Логистическая регрессия\n",
      "Точность попадания по классам 0.663\n",
      "Precision 0.3588850174216028\n",
      "Recall 0.7169373549883991\n",
      "F1 0.47832817337461303\n",
      "\n",
      "Гаусовская байсовая модель\n",
      "Точность попадания по классам 0.708\n",
      "Precision 0.398406374501992\n",
      "Recall 0.6960556844547564\n",
      "F1 0.5067567567567568\n",
      "\n",
      "CPU times: user 956 ms, sys: 125 ms, total: 1.08 s\n",
      "Wall time: 1.08 s\n"
     ]
    }
   ],
   "source": [
    "%%time\n",
    "\n",
    "model = DecisionTreeClassifier(random_state=20052020, max_depth=7)\n",
    "model.fit(features_upsampled, target_upsampled)\n",
    "predicted_valid = model.predict(features_valid)\n",
    "print('Решающее дерево')\n",
    "print('Точность попадания по классам', accuracy_score(target_valid, predicted_valid))\n",
    "print('Precision', precision_score(target_valid, predicted_valid))\n",
    "print('Recall', recall_score(target_valid, predicted_valid))\n",
    "print('F1', f1_score(target_valid, predicted_valid))\n",
    "print()\n",
    "\n",
    "model = RandomForestClassifier(random_state=20052020, n_estimators=53)\n",
    "model.fit(features_upsampled, target_upsampled)\n",
    "predicted_valid = model.predict(features_valid)\n",
    "print('Случайный лес')\n",
    "print('Точность попадания по классам', accuracy_score(target_valid, predicted_valid))\n",
    "print('Precision', precision_score(target_valid, predicted_valid))\n",
    "print('Recall', recall_score(target_valid, predicted_valid))\n",
    "print('F1', f1_score(target_valid, predicted_valid))\n",
    "print()\n",
    "\n",
    "model = LogisticRegression(random_state=20052020, solver='liblinear')\n",
    "model.fit(features_upsampled, target_upsampled)\n",
    "predicted_valid = model.predict(features_valid)\n",
    "print('Логистическая регрессия')\n",
    "print('Точность попадания по классам', accuracy_score(target_valid, predicted_valid))\n",
    "print('Precision', precision_score(target_valid, predicted_valid))\n",
    "print('Recall', recall_score(target_valid, predicted_valid))\n",
    "print('F1', f1_score(target_valid, predicted_valid))\n",
    "print()\n",
    "\n",
    "model = GaussianNB()\n",
    "model.fit(features_upsampled, target_upsampled)\n",
    "predicted_valid = model.predict(features_valid)\n",
    "print('Гаусовская байсовая модель')\n",
    "print('Точность попадания по классам', accuracy_score(target_valid, predicted_valid))\n",
    "print('Precision', precision_score(target_valid, predicted_valid))\n",
    "print('Recall', recall_score(target_valid, predicted_valid))\n",
    "print('F1', f1_score(target_valid, predicted_valid))\n",
    "print()"
   ]
  },
  {
   "cell_type": "markdown",
   "metadata": {},
   "source": [
    "F-мера стала лучше у случайного леса, логистической регресии и гаусовской модели по сравнению с дисбалансными данными. \n",
    "Лучшей моделью по F-мера стал случайны лес с тренировочными данными, где увеличен класс 1."
   ]
  },
  {
   "cell_type": "markdown",
   "metadata": {},
   "source": [
    "Выведем ROC-кривую и AUC-ROC для посленнего измененного баланса."
   ]
  },
  {
   "cell_type": "code",
   "execution_count": 22,
   "metadata": {},
   "outputs": [
    {
     "name": "stdout",
     "output_type": "stream",
     "text": [
      "AUC-ROC DecisionTreeClassifier 0.8241753285450855\n",
      "AUC-ROC RandomForestClassifier 0.852428653183268\n",
      "AUC-ROC LogisticRegression 0.7291430988156554\n",
      "AUC-ROC GaussianNB 0.7548440714007917\n"
     ]
    },
    {
     "data": {
      "image/png": "[encoded data removed]",
      "text/plain": [
       "<Figure size 864x648 with 1 Axes>"
      ]
     },
     "metadata": {
      "needs_background": "light"
     },
     "output_type": "display_data"
    }
   ],
   "source": [
    "plt.figure(figsize=[12,9])\n",
    "\n",
    "plt.plot([0, 1], [0, 1], linestyle='--', label='RandomModel')\n",
    "\n",
    "\n",
    "model = DecisionTreeClassifier(random_state=20052020, max_depth=7)\n",
    "model.fit(features_upsampled, target_upsampled)\n",
    "probabilities_valid = model.predict_proba(features_valid)\n",
    "probabilities_one_valid = probabilities_valid[:, 1]\n",
    "fpr, tpr, thresholds = roc_curve(target_valid, probabilities_one_valid)\n",
    "auc_roc = roc_auc_score(target_valid, probabilities_one_valid)\n",
    "print('AUC-ROC DecisionTreeClassifier',auc_roc)\n",
    "plt.plot(fpr, tpr, label='DecisionTreeClassifier')\n",
    "\n",
    "model = RandomForestClassifier(random_state=20052020, n_estimators=53)\n",
    "model.fit(features_upsampled, target_upsampled)\n",
    "probabilities_valid = model.predict_proba(features_valid)\n",
    "probabilities_one_valid = probabilities_valid[:, 1]\n",
    "fpr, tpr, thresholds = roc_curve(target_valid, probabilities_one_valid)\n",
    "auc_roc = roc_auc_score(target_valid, probabilities_one_valid)\n",
    "print('AUC-ROC RandomForestClassifier',auc_roc)\n",
    "plt.plot(fpr, tpr, label='RandomForestClassifier')\n",
    "\n",
    "model = LogisticRegression(random_state=20052020, solver='liblinear')\n",
    "model.fit(features_upsampled, target_upsampled)\n",
    "probabilities_valid = model.predict_proba(features_valid)\n",
    "probabilities_one_valid = probabilities_valid[:, 1]\n",
    "fpr, tpr, thresholds = roc_curve(target_valid, probabilities_one_valid)\n",
    "auc_roc = roc_auc_score(target_valid, probabilities_one_valid)\n",
    "print('AUC-ROC LogisticRegression',auc_roc)\n",
    "plt.plot(fpr, tpr, label='LogisticRegression')\n",
    "\n",
    "model = GaussianNB()\n",
    "model.fit(features_upsampled, target_upsampled)\n",
    "probabilities_valid = model.predict_proba(features_valid)\n",
    "probabilities_one_valid = probabilities_valid[:, 1]\n",
    "fpr, tpr, thresholds = roc_curve(target_valid, probabilities_one_valid)\n",
    "auc_roc = roc_auc_score(target_valid, probabilities_one_valid)\n",
    "print('AUC-ROC GaussianNB',auc_roc)\n",
    "plt.plot(fpr, tpr, label='GaussianNB')\n",
    "\n",
    "plt.xlim([0,1])\n",
    "plt.ylim([0,1])\n",
    "\n",
    "plt.xlabel(\"False Positive Rate\")\n",
    "plt.ylabel(\"True Positive Rate\")\n",
    "\n",
    "plt.legend(loc='lower right', fontsize='x-large')\n",
    "\n",
    "plt.title(\"ROC-кривая\")\n",
    "plt.show()"
   ]
  },
  {
   "cell_type": "markdown",
   "metadata": {},
   "source": [
    "### Вывод по шагу 3\n",
    "\n",
    "Дисбаланс повлиял на модели в худшую сторону. Лучшим решением стало увеличение классов 1 в тренировочной выборке.\n",
    "\n",
    "Выравние классов в выборке привело к резкому росту параметра recall и небольшому понижению percison. Но в целом F-мера выросла."
   ]
  },
  {
   "cell_type": "markdown",
   "metadata": {},
   "source": [
    "# 4. Тестирование модели"
   ]
  },
  {
   "cell_type": "markdown",
   "metadata": {},
   "source": [
    "К тестовой выборке примем модель случайного дерева. Исследуем гиперпараметры и улучшим F-меру модели."
   ]
  },
  {
   "cell_type": "markdown",
   "metadata": {},
   "source": [
    "Начнем с гиперпараметра n_estimators."
   ]
  },
  {
   "cell_type": "code",
   "execution_count": 23,
   "metadata": {},
   "outputs": [
    {
     "name": "stdout",
     "output_type": "stream",
     "text": [
      "N estimators 10 F1 0.6143958868894602\n",
      "N estimators 20 F1 0.6283524904214559\n",
      "N estimators 30 F1 0.6310432569974554\n",
      "N estimators 40 F1 0.6227848101265823\n",
      "N estimators 50 F1 0.6290726817042607\n",
      "N estimators 60 F1 0.6298619824341279\n",
      "N estimators 70 F1 0.6389937106918239\n",
      "N estimators 80 F1 0.641697877652934\n",
      "N estimators 90 F1 0.6365914786967418\n",
      "N estimators 100 F1 0.6373902132998746\n",
      "N estimators 110 F1 0.6381909547738692\n",
      "N estimators 120 F1 0.6397984886649875\n",
      "N estimators 130 F1 0.632241813602015\n",
      "N estimators 140 F1 0.6415094339622641\n",
      "N estimators 150 F1 0.6397984886649875\n",
      "N estimators 160 F1 0.6415094339622641\n",
      "N estimators 170 F1 0.6398996235884568\n",
      "N estimators 180 F1 0.6392009987515606\n",
      "N estimators 190 F1 0.6390977443609023\n",
      "N estimators 200 F1 0.6399999999999999\n",
      "N estimators 210 F1 0.6376089663760897\n",
      "N estimators 220 F1 0.6416040100250625\n",
      "N estimators 230 F1 0.6389937106918239\n",
      "N estimators 240 F1 0.6397984886649875\n",
      "N estimators 250 F1 0.6407035175879398\n",
      "N estimators 260 F1 0.6365914786967418\n",
      "N estimators 270 F1 0.6331658291457287\n",
      "N estimators 280 F1 0.6390977443609023\n",
      "N estimators 290 F1 0.6407035175879398\n",
      "N estimators 300 F1 0.6415094339622641\n",
      "N estimators 310 F1 0.6381909547738692\n",
      "N estimators 320 F1 0.635678391959799\n",
      "N estimators 330 F1 0.6381909547738692\n",
      "N estimators 340 F1 0.6397984886649875\n",
      "N estimators 350 F1 0.6432160804020101\n",
      "N estimators 360 F1 0.6440251572327044\n",
      "N estimators 370 F1 0.642409033877039\n",
      "N estimators 380 F1 0.6457286432160804\n",
      "N estimators 390 F1 0.6423173803526449\n",
      "N estimators 400 F1 0.6397984886649875\n",
      "N estimators 410 F1 0.6440251572327044\n",
      "N estimators 420 F1 0.6433041301627035\n",
      "N estimators 430 F1 0.6408010012515645\n",
      "N estimators 440 F1 0.642409033877039\n",
      "N estimators 450 F1 0.6415094339622641\n",
      "N estimators 460 F1 0.642409033877039\n",
      "N estimators 470 F1 0.642409033877039\n",
      "N estimators 480 F1 0.6381909547738692\n",
      "N estimators 490 F1 0.6390977443609023\n",
      "CPU times: user 2min 51s, sys: 1.17 s, total: 2min 52s\n",
      "Wall time: 2min 53s\n"
     ]
    }
   ],
   "source": [
    "%%time\n",
    "\n",
    "for estimator in range(10, 500, 10):\n",
    "    model =  RandomForestClassifier(random_state=20052020, n_estimators=estimator)\n",
    "    model.fit(features_upsampled, target_upsampled)\n",
    "    predicted_valid = model.predict(features_valid)\n",
    "    print('N estimators', estimator,'F1', f1_score(target_valid, predicted_valid))"
   ]
  },
  {
   "cell_type": "markdown",
   "metadata": {},
   "source": [
    "Лучший результат лежит в диапазоне 370-390."
   ]
  },
  {
   "cell_type": "code",
   "execution_count": 24,
   "metadata": {},
   "outputs": [
    {
     "name": "stdout",
     "output_type": "stream",
     "text": [
      "N estimators 370 F1 0.642409033877039\n",
      "N estimators 371 F1 0.6433041301627035\n",
      "N estimators 372 F1 0.6441102756892231\n",
      "N estimators 373 F1 0.6450000000000001\n",
      "N estimators 374 F1 0.6474278544542033\n",
      "N estimators 375 F1 0.6458072590738423\n",
      "N estimators 376 F1 0.6457286432160804\n",
      "N estimators 377 F1 0.6457286432160804\n",
      "N estimators 378 F1 0.6457286432160804\n",
      "N estimators 379 F1 0.644918444165621\n",
      "N estimators 380 F1 0.6457286432160804\n",
      "N estimators 381 F1 0.644918444165621\n",
      "N estimators 382 F1 0.6440251572327044\n",
      "N estimators 383 F1 0.644918444165621\n",
      "N estimators 384 F1 0.644918444165621\n",
      "N estimators 385 F1 0.6466165413533834\n",
      "N estimators 386 F1 0.6474278544542033\n",
      "N estimators 387 F1 0.6483103879849811\n",
      "N estimators 388 F1 0.6440251572327044\n",
      "N estimators 389 F1 0.6457286432160804\n",
      "N estimators 390 F1 0.6423173803526449\n",
      "CPU times: user 1min 50s, sys: 832 ms, total: 1min 51s\n",
      "Wall time: 1min 51s\n"
     ]
    }
   ],
   "source": [
    "%%time\n",
    "\n",
    "for estimator in range(370, 391):\n",
    "    model =  RandomForestClassifier(random_state=20052020, n_estimators=estimator)\n",
    "    model.fit(features_upsampled, target_upsampled)\n",
    "    predicted_valid = model.predict(features_valid)\n",
    "    print('N estimators', estimator,'F1', f1_score(target_valid, predicted_valid))"
   ]
  },
  {
   "cell_type": "markdown",
   "metadata": {},
   "source": [
    "Лучший F1 при n_estimators = 387"
   ]
  },
  {
   "cell_type": "code",
   "execution_count": 25,
   "metadata": {},
   "outputs": [
    {
     "name": "stdout",
     "output_type": "stream",
     "text": [
      "F1 0.6432160804020101\n",
      "CPU times: user 7.27 s, sys: 36 ms, total: 7.31 s\n",
      "Wall time: 7.33 s\n"
     ]
    }
   ],
   "source": [
    "%%time\n",
    "\n",
    "model =  RandomForestClassifier(random_state=20052020, n_estimators=387, criterion='entropy')\n",
    "model.fit(features_upsampled, target_upsampled)\n",
    "predicted_valid = model.predict(features_valid)\n",
    "print('F1', f1_score(target_valid, predicted_valid))"
   ]
  },
  {
   "cell_type": "markdown",
   "metadata": {},
   "source": [
    "Изменим гиперпараметр min_samples_split."
   ]
  },
  {
   "cell_type": "code",
   "execution_count": 26,
   "metadata": {},
   "outputs": [
    {
     "name": "stdout",
     "output_type": "stream",
     "text": [
      "Samples_split 0.1 F1 0.6012715712988193\n",
      "Samples_split 0.2 F1 0.5915996425379804\n",
      "Samples_split 0.3 F1 0.5758091993185691\n",
      "Samples_split 0.4 F1 0.5750421585160204\n",
      "Samples_split 0.5 F1 0.5808124459809852\n",
      "Samples_split 0.6 F1 0.5724020442930153\n",
      "Samples_split 0.7 F1 0.3545865898807075\n",
      "Samples_split 0.8 F1 0.3545865898807075\n",
      "Samples_split 0.9 F1 0.3545865898807075\n",
      "Samples_split 1.0 F1 0.3545865898807075\n",
      "Samples_split 2 F1 0.6423173803526449\n",
      "Samples_split 3 F1 0.643939393939394\n",
      "Samples_split 4 F1 0.6415094339622641\n",
      "Samples_split 5 F1 0.652605459057072\n",
      "Samples_split 6 F1 0.6411837237977804\n",
      "Samples_split 7 F1 0.6513317191283292\n",
      "Samples_split 8 F1 0.6370192307692308\n",
      "Samples_split 9 F1 0.6476190476190476\n",
      "Samples_split 10 F1 0.6508313539192399\n",
      "CPU times: user 1min 3s, sys: 232 ms, total: 1min 3s\n",
      "Wall time: 1min 3s\n"
     ]
    }
   ],
   "source": [
    "%%time\n",
    "\n",
    "for samples_split in range(1, 11):\n",
    "    model =  RandomForestClassifier(random_state=20052020, n_estimators=estimator, min_samples_split=samples_split/10)\n",
    "    model.fit(features_upsampled, target_upsampled)\n",
    "    predicted_valid = model.predict(features_valid)\n",
    "    print('Samples_split', samples_split/10,'F1', f1_score(target_valid, predicted_valid))\n",
    "    \n",
    "for samples_split in range(2, 11):\n",
    "    model =  RandomForestClassifier(random_state=20052020, n_estimators=estimator, min_samples_split=samples_split)\n",
    "    model.fit(features_upsampled, target_upsampled)\n",
    "    predicted_valid = model.predict(features_valid)\n",
    "    print('Samples_split', samples_split,'F1', f1_score(target_valid, predicted_valid))"
   ]
  },
  {
   "cell_type": "markdown",
   "metadata": {},
   "source": [
    "Лучший F1 получени при min_samples_split=5."
   ]
  },
  {
   "cell_type": "markdown",
   "metadata": {},
   "source": [
    "Изменим гиперпараметр min_samples_leaf."
   ]
  },
  {
   "cell_type": "code",
   "execution_count": 27,
   "metadata": {},
   "outputs": [
    {
     "name": "stdout",
     "output_type": "stream",
     "text": [
      "Samples_leaf 0.1 F1 0.5557522123893804\n",
      "Samples_leaf 0.2 F1 0.5449781659388646\n",
      "Samples_leaf 0.3 F1 0.5159744408945686\n",
      "Samples_leaf 0.4 F1 0.3545865898807075\n",
      "Samples_leaf 0.5 F1 0.3545865898807075\n",
      "Samples_leaf 1 F1 0.652605459057072\n",
      "Samples_leaf 2 F1 0.6461538461538461\n",
      "Samples_leaf 3 F1 0.6461187214611872\n",
      "Samples_leaf 4 F1 0.6607142857142857\n",
      "Samples_leaf 5 F1 0.659316427783903\n",
      "Samples_leaf 6 F1 0.6579520697167756\n",
      "Samples_leaf 7 F1 0.6644951140065147\n",
      "Samples_leaf 8 F1 0.655982905982906\n",
      "Samples_leaf 9 F1 0.6567164179104478\n",
      "Samples_leaf 10 F1 0.6527632950990615\n",
      "CPU times: user 56.9 s, sys: 148 ms, total: 57.1 s\n",
      "Wall time: 57.2 s\n"
     ]
    }
   ],
   "source": [
    "%%time\n",
    "\n",
    "for samples_leaf in range(1, 6):\n",
    "    model =  RandomForestClassifier(random_state=20052020, n_estimators=estimator, min_samples_split=5, \n",
    "                                    min_samples_leaf= samples_leaf/10)\n",
    "    model.fit(features_upsampled, target_upsampled)\n",
    "    predicted_valid = model.predict(features_valid)\n",
    "    print('Samples_leaf', samples_leaf/10,'F1', f1_score(target_valid, predicted_valid))\n",
    "    \n",
    "for samples_leaf in range(1, 11):\n",
    "    model =  RandomForestClassifier(random_state=20052020, n_estimators=estimator, min_samples_split=5,\n",
    "                                   min_samples_leaf= samples_leaf)\n",
    "    model.fit(features_upsampled, target_upsampled)\n",
    "    predicted_valid = model.predict(features_valid)\n",
    "    print('Samples_leaf', samples_leaf,'F1', f1_score(target_valid, predicted_valid))"
   ]
  },
  {
   "cell_type": "markdown",
   "metadata": {},
   "source": [
    "Лучший показатель min_samples_leaf = 7"
   ]
  },
  {
   "cell_type": "markdown",
   "metadata": {},
   "source": [
    "Проверим на тестовой выборке четыре модели: на дисбалансных данных и сбалансированных: со взвешенными классами, усечением 0 класса и расширением класса 1."
   ]
  },
  {
   "cell_type": "code",
   "execution_count": 28,
   "metadata": {},
   "outputs": [
    {
     "name": "stdout",
     "output_type": "stream",
     "text": [
      "Случайный лес - дисбаланс классов\n",
      "Точность попадания по классам 0.866\n",
      "Precision 0.7931034482758621\n",
      "Recall 0.45544554455445546\n",
      "F1 0.578616352201258\n",
      "\n",
      "Случайный лес - взвешенные классы\n",
      "Точность попадания по классам 0.834\n",
      "Precision 0.5796460176991151\n",
      "Recall 0.6485148514851485\n",
      "F1 0.6121495327102804\n",
      "\n",
      "Случайный лес - уменьшенное количество классов 0\n",
      "Точность попадания по классам 0.768\n",
      "Precision 0.4541284403669725\n",
      "Recall 0.7351485148514851\n",
      "F1 0.5614366729678638\n",
      "\n",
      "Случайный лес - увеличенное количество классов 1\n",
      "Точность попадания по классам 0.8205\n",
      "Precision 0.5456389452332657\n",
      "Recall 0.6658415841584159\n",
      "F1 0.5997770345596434\n",
      "\n"
     ]
    }
   ],
   "source": [
    "model = RandomForestClassifier(random_state=20052020, n_estimators=estimator, min_samples_split=5,\n",
    "                                   min_samples_leaf=7)\n",
    "model.fit(features_train, target_train)\n",
    "predicted_test = model.predict(features_test)\n",
    "print('Случайный лес - дисбаланс классов')\n",
    "print('Точность попадания по классам', accuracy_score(target_test, predicted_test))\n",
    "print('Precision', precision_score(target_test, predicted_test))\n",
    "print('Recall', recall_score(target_test, predicted_test))\n",
    "print('F1', f1_score(target_test, predicted_test))\n",
    "print()\n",
    "\n",
    "model = RandomForestClassifier(random_state=20052020, n_estimators=estimator, min_samples_split=5,\n",
    "                                   min_samples_leaf=7, class_weight='balanced')\n",
    "model.fit(features_train, target_train)\n",
    "predicted_test = model.predict(features_test)\n",
    "print('Случайный лес - взвешенные классы')\n",
    "print('Точность попадания по классам', accuracy_score(target_test, predicted_test))\n",
    "print('Precision', precision_score(target_test, predicted_test))\n",
    "print('Recall', recall_score(target_test, predicted_test))\n",
    "print('F1', f1_score(target_test, predicted_test))\n",
    "print()\n",
    "\n",
    "model = RandomForestClassifier(random_state=20052020, n_estimators=estimator, min_samples_split=5,\n",
    "                                   min_samples_leaf=7)\n",
    "model.fit(features_downsampled, target_downsampled)\n",
    "predicted_test = model.predict(features_test)\n",
    "print('Случайный лес - уменьшенное количество классов 0')\n",
    "print('Точность попадания по классам', accuracy_score(target_test, predicted_test))\n",
    "print('Precision', precision_score(target_test, predicted_test))\n",
    "print('Recall', recall_score(target_test, predicted_test))\n",
    "print('F1', f1_score(target_test, predicted_test))\n",
    "print()\n",
    "\n",
    "model = RandomForestClassifier(random_state=20052020, n_estimators=estimator, min_samples_split=5,\n",
    "                                   min_samples_leaf=7)\n",
    "model.fit(features_upsampled, target_upsampled)\n",
    "predicted_test = model.predict(features_test)\n",
    "print('Случайный лес - увеличенное количество классов 1')\n",
    "print('Точность попадания по классам', accuracy_score(target_test, predicted_test))\n",
    "print('Precision', precision_score(target_test, predicted_test))\n",
    "print('Recall', recall_score(target_test, predicted_test))\n",
    "print('F1', f1_score(target_test, predicted_test))\n",
    "print()"
   ]
  },
  {
   "cell_type": "code",
   "execution_count": 29,
   "metadata": {},
   "outputs": [
    {
     "name": "stdout",
     "output_type": "stream",
     "text": [
      "AUC-ROC RandomForestClassifier - disbalanced 0.862183304796645\n",
      "AUC-ROC RandomForestClassifier - balanced by class weight 0.8613411623117199\n",
      "AUC-ROC RandomForestClassifier - balanced by reduce 0 class 0.8566279560286857\n",
      "AUC-ROC RandomForestClassifier - balanced by grow 1 class 0.8586394823692896\n"
     ]
    },
    {
     "data": {
      "image/png": "[encoded data removed]",
      "text/plain": [
       "<Figure size 864x648 with 1 Axes>"
      ]
     },
     "metadata": {
      "needs_background": "light"
     },
     "output_type": "display_data"
    }
   ],
   "source": [
    "plt.figure(figsize=[12,9])\n",
    "\n",
    "plt.plot([0, 1], [0, 1], linestyle='--', label='RandomModel')\n",
    "\n",
    "\n",
    "model = RandomForestClassifier(random_state=20052020, n_estimators=estimator, min_samples_split=5,\n",
    "                                   min_samples_leaf=7)\n",
    "model.fit(features_train, target_train)\n",
    "predicted_test = model.predict(features_test)\n",
    "probabilities_test = model.predict_proba(features_test)\n",
    "probabilities_one_test = probabilities_test[:, 1]\n",
    "fpr, tpr, thresholds = roc_curve(target_test, probabilities_one_test)\n",
    "auc_roc = roc_auc_score(target_test, probabilities_one_test)\n",
    "print('AUC-ROC RandomForestClassifier - disbalanced',auc_roc)\n",
    "plt.plot(fpr, tpr, label='RandomForestClassifier - disbalanced')\n",
    "\n",
    "model = RandomForestClassifier(random_state=20052020, n_estimators=estimator, min_samples_split=5,\n",
    "                                   min_samples_leaf=7, class_weight='balanced')\n",
    "model.fit(features_train, target_train)\n",
    "predicted_test = model.predict(features_test)\n",
    "probabilities_test = model.predict_proba(features_test)\n",
    "probabilities_one_test = probabilities_test[:, 1]\n",
    "fpr, tpr, thresholds = roc_curve(target_test, probabilities_one_test)\n",
    "auc_roc = roc_auc_score(target_test, probabilities_one_test)\n",
    "print('AUC-ROC RandomForestClassifier - balanced by class weight',auc_roc)\n",
    "plt.plot(fpr, tpr, label='RandomForestClassifier - balanced by class weight')\n",
    "\n",
    "model = RandomForestClassifier(random_state=20052020, n_estimators=estimator, min_samples_split=5,\n",
    "                                   min_samples_leaf=7)\n",
    "model.fit(features_downsampled, target_downsampled)\n",
    "predicted_test = model.predict(features_test)\n",
    "probabilities_test = model.predict_proba(features_test)\n",
    "probabilities_one_test = probabilities_test[:, 1]\n",
    "fpr, tpr, thresholds = roc_curve(target_test, probabilities_one_test)\n",
    "auc_roc = roc_auc_score(target_test, probabilities_one_test)\n",
    "print('AUC-ROC RandomForestClassifier - balanced by reduce 0 class',auc_roc)\n",
    "plt.plot(fpr, tpr, label='RandomForestClassifier - balanced by reduce 0 class')\n",
    "\n",
    "model = RandomForestClassifier(random_state=20052020, n_estimators=estimator, min_samples_split=5,\n",
    "                                   min_samples_leaf=7)\n",
    "model.fit(features_upsampled, target_upsampled)\n",
    "predicted_test = model.predict(features_test)\n",
    "probabilities_test = model.predict_proba(features_test)\n",
    "probabilities_one_test = probabilities_test[:, 1]\n",
    "fpr, tpr, thresholds = roc_curve(target_test, probabilities_one_test)\n",
    "auc_roc = roc_auc_score(target_test, probabilities_one_test)\n",
    "print('AUC-ROC RandomForestClassifier - balanced by grow 1 class',auc_roc)\n",
    "plt.plot(fpr, tpr, label='RandomForestClassifier - balanced')\n",
    "\n",
    "plt.xlim([0,1])\n",
    "plt.ylim([0,1])\n",
    "\n",
    "plt.xlabel(\"False Positive Rate\")\n",
    "plt.ylabel(\"True Positive Rate\")\n",
    "\n",
    "plt.legend(loc='lower right', fontsize='x-large')\n",
    "\n",
    "plt.title(\"ROC-кривая\")\n",
    "plt.show()"
   ]
  },
  {
   "cell_type": "markdown",
   "metadata": {},
   "source": [
    "### Вывод по шагу 4\n",
    "\n",
    "2 из 4 моделей достигли минимума F-меры на тестовых данных: модель случайного леса со взвешенными весами классов и модель с увеличенным количеством класса 1.\n",
    "\n",
    "Видно, что взвешивание классов дает результат лучше для данного набора данных. Percision падает, recall растет, и в целом F-мера имеет небольшой прирост. Баланс классов повышает охват необходимых данных.\n",
    "\n",
    "Оценивая адеватность модели можно заметить, что AUC-ROC дисбалансной модели и модели с весами примерно одинаково предсказывают вероятность ухода клиента.\n",
    "\n",
    "В результате исследования была получена модель с лучшими показателями как по F1-мере, так и по AUC-ROC - Случайный лес: взвешенные классы."
   ]
  },
  {
   "cell_type": "markdown",
   "metadata": {},
   "source": [
    "## Итоговый вывод\n",
    "\n",
    "При работе с проектом было выполнено:\n",
    "\n",
    "1. Изучены данные. Разбиты данные на тренировочную, валидационную и тестовую выборку.\n",
    "2. Исследована задача. Проверены модели на данных без изменений.\n",
    "3. Скоректирован балланс класса. Изменен вес класса.\n",
    "4. Получена улученная модель. Проведен поиск гиперпараметров.\n",
    "5. Проведен финальный тест.\n",
    "\n",
    "Обученная модель случайного леса со взвешенными классами имеет достаточную адекватность, подтвержденная ее значением AUC-ROC = 0.861. Это лучше, чем случайная модель предсказывания (AUC-ROC = 0.5). Точность попадания по классам 0.834, precision 0.58, recall 0.649 и f1 0.612. Модель старается собрать больше данных, чем показать верную точность (recall > precision). Процент попадания в классы достаточно высокий."
   ]
  }
 ],
 "metadata": {
  "kernelspec": {
   "display_name": "Python 3",
   "language": "python",
   "name": "python3"
  },
  "language_info": {
   "codemirror_mode": {
    "name": "ipython",
    "version": 3
   },
   "file_extension": ".py",
   "mimetype": "text/x-python",
   "name": "python",
   "nbconvert_exporter": "python",
   "pygments_lexer": "ipython3",
   "version": "3.7.6"
  }
 },
 "nbformat": 4,
 "nbformat_minor": 2
}
