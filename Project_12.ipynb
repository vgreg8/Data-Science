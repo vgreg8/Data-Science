{
 "cells": [
  {
   "cell_type": "markdown",
   "metadata": {},
   "source": [
    "# Проект \"Определение токсичности англоязычных комментариев\"\n",
    "\n",
    "## Описание проекта\n",
    "\n",
    "Интернет-магазин «Викишоп» запускает новый сервис. Теперь пользователи могут редактировать и дополнять описания товаров, как в вики-сообществах. То есть клиенты предлагают свои правки и комментируют изменения других. Магазину нужен инструмент, который будет искать токсичные комментарии и отправлять их на модерацию. \n",
    "\n",
    "Обучите модель классифицировать комментарии на позитивные и негативные. В вашем распоряжении набор данных с разметкой о токсичности правок.\n",
    "\n",
    "Постройте модель со значением метрики качества *F1* не меньше 0.75. \n",
    "\n",
    "### План работы над проектом\n",
    "\n",
    "1. Загрузить и подготовить данные.\n",
    "2. Обучить разные модели. \n",
    "3. Сделайть выводы.\n",
    "\n",
    "\n",
    "### Описание данных\n",
    "\n",
    "Данные находятся в файле `toxic_comments.csv`. Столбец *text* в нём содержит текст комментария, а *toxic* — целевой признак."
   ]
  },
  {
   "cell_type": "markdown",
   "metadata": {},
   "source": [
    "# 1. Подготовка"
   ]
  },
  {
   "cell_type": "code",
   "execution_count": 1,
   "metadata": {},
   "outputs": [],
   "source": [
    "import matplotlib.pyplot as plt\n",
    "import numpy as np\n",
    "import pandas as pd\n",
    "import re\n",
    "from pymystem3 import Mystem\n",
    "import nltk\n",
    "from nltk.corpus import stopwords as nltk_stopwords\n",
    "from sklearn.feature_extraction.text import TfidfVectorizer\n",
    "from sklearn.model_selection import train_test_split, cross_val_score, GridSearchCV\n",
    "from sklearn.linear_model import LogisticRegression, SGDClassifier\n",
    "from sklearn.tree import DecisionTreeClassifier\n",
    "from catboost import CatBoostClassifier\n",
    "from sklearn.metrics import f1_score, precision_score, recall_score, accuracy_score, roc_auc_score, roc_curve\n",
    "from sklearn.utils import shuffle\n",
    "import warnings\n",
    "warnings.filterwarnings('ignore')"
   ]
  },
  {
   "cell_type": "code",
   "execution_count": 2,
   "metadata": {},
   "outputs": [
    {
     "name": "stdout",
     "output_type": "stream",
     "text": [
      "<class 'pandas.core.frame.DataFrame'>\n",
      "RangeIndex: 159571 entries, 0 to 159570\n",
      "Data columns (total 2 columns):\n",
      "text     159571 non-null object\n",
      "toxic    159571 non-null int64\n",
      "dtypes: int64(1), object(1)\n",
      "memory usage: 2.4+ MB\n"
     ]
    }
   ],
   "source": [
    "toxic_comments = pd.read_csv('/datasets/toxic_comments.csv')\n",
    "toxic_comments.info()"
   ]
  },
  {
   "cell_type": "code",
   "execution_count": 3,
   "metadata": {},
   "outputs": [
    {
     "data": {
      "text/html": [
       "<div>\n",
       "<style scoped>\n",
       "    .dataframe tbody tr th:only-of-type {\n",
       "        vertical-align: middle;\n",
       "    }\n",
       "\n",
       "    .dataframe tbody tr th {\n",
       "        vertical-align: top;\n",
       "    }\n",
       "\n",
       "    .dataframe thead th {\n",
       "        text-align: right;\n",
       "    }\n",
       "</style>\n",
       "<table border=\"1\" class=\"dataframe\">\n",
       "  <thead>\n",
       "    <tr style=\"text-align: right;\">\n",
       "      <th></th>\n",
       "      <th>text</th>\n",
       "      <th>toxic</th>\n",
       "    </tr>\n",
       "  </thead>\n",
       "  <tbody>\n",
       "    <tr>\n",
       "      <td>0</td>\n",
       "      <td>Explanation\\nWhy the edits made under my usern...</td>\n",
       "      <td>0</td>\n",
       "    </tr>\n",
       "    <tr>\n",
       "      <td>1</td>\n",
       "      <td>D'aww! He matches this background colour I'm s...</td>\n",
       "      <td>0</td>\n",
       "    </tr>\n",
       "    <tr>\n",
       "      <td>2</td>\n",
       "      <td>Hey man, I'm really not trying to edit war. It...</td>\n",
       "      <td>0</td>\n",
       "    </tr>\n",
       "    <tr>\n",
       "      <td>3</td>\n",
       "      <td>\"\\nMore\\nI can't make any real suggestions on ...</td>\n",
       "      <td>0</td>\n",
       "    </tr>\n",
       "    <tr>\n",
       "      <td>4</td>\n",
       "      <td>You, sir, are my hero. Any chance you remember...</td>\n",
       "      <td>0</td>\n",
       "    </tr>\n",
       "  </tbody>\n",
       "</table>\n",
       "</div>"
      ],
      "text/plain": [
       "                                                text  toxic\n",
       "0  Explanation\\nWhy the edits made under my usern...      0\n",
       "1  D'aww! He matches this background colour I'm s...      0\n",
       "2  Hey man, I'm really not trying to edit war. It...      0\n",
       "3  \"\\nMore\\nI can't make any real suggestions on ...      0\n",
       "4  You, sir, are my hero. Any chance you remember...      0"
      ]
     },
     "execution_count": 3,
     "metadata": {},
     "output_type": "execute_result"
    }
   ],
   "source": [
    "toxic_comments.head()"
   ]
  },
  {
   "cell_type": "code",
   "execution_count": 4,
   "metadata": {},
   "outputs": [
    {
     "data": {
      "text/plain": [
       "0    143346\n",
       "1     16225\n",
       "Name: toxic, dtype: int64"
      ]
     },
     "metadata": {},
     "output_type": "display_data"
    },
    {
     "data": {
      "text/plain": [
       "8.834884437596301"
      ]
     },
     "execution_count": 4,
     "metadata": {},
     "output_type": "execute_result"
    }
   ],
   "source": [
    "display(toxic_comments['toxic'].value_counts())\n",
    "class_ratio = toxic_comments['toxic'].value_counts()[0] / toxic_comments['toxic'].value_counts()[1]\n",
    "class_ratio"
   ]
  },
  {
   "cell_type": "markdown",
   "metadata": {},
   "source": [
    "Классы несбалансированы. Отношение 1:8.83. Проведем поиск лучшего способа балансировки и сравним качество.\n",
    "\n",
    "1. Изменение весов в модели обучения\n",
    "2. Ресемплирование с уменьшением класса 0\n",
    "\n",
    "Ресемплирование с увеличением класса 1 не будем использовать из-за громоздкого набора данных."
   ]
  },
  {
   "cell_type": "markdown",
   "metadata": {},
   "source": [
    "Подготовим признаки и целевой признак перед обучением. "
   ]
  },
  {
   "cell_type": "code",
   "execution_count": 5,
   "metadata": {},
   "outputs": [
    {
     "name": "stdout",
     "output_type": "stream",
     "text": [
      "CPU times: user 59.5 s, sys: 11 s, total: 1min 10s\n",
      "Wall time: 2min 27s\n"
     ]
    }
   ],
   "source": [
    "%%time\n",
    "\n",
    "m = Mystem()\n",
    "\n",
    "def lemmatize_text(text):\n",
    "    text = text.lower()\n",
    "    lemm_text = \"\".join(m.lemmatize(text))\n",
    "    cleared_text = re.sub(r'[^a-zA-Z]', ' ', lemm_text) \n",
    "    return \" \".join(cleared_text.split())\n",
    "\n",
    "toxic_comments['lemm_text'] = toxic_comments['text'].apply(lemmatize_text)\n",
    "\n",
    "toxic_comments = toxic_comments.drop(['text'], axis=1)\n",
    "del m"
   ]
  },
  {
   "cell_type": "markdown",
   "metadata": {},
   "source": [
    "Разобьем выборку по отношению 60/20/20. Уменьшим количество кроссвалидаций до 3 из-за размера выборки."
   ]
  },
  {
   "cell_type": "code",
   "execution_count": 6,
   "metadata": {},
   "outputs": [
    {
     "name": "stderr",
     "output_type": "stream",
     "text": [
      "[nltk_data] Downloading package stopwords to /home/jovyan/nltk_data...\n",
      "[nltk_data]   Package stopwords is already up-to-date!\n"
     ]
    },
    {
     "name": "stdout",
     "output_type": "stream",
     "text": [
      "(95742, 126292)\n",
      "(31914, 126292)\n",
      "(31915, 126292)\n"
     ]
    }
   ],
   "source": [
    "target = toxic_comments['toxic']\n",
    "features = toxic_comments.drop(['toxic'], axis=1)\n",
    "\n",
    "features_train, features_valid, target_train, target_valid = train_test_split(features, \n",
    "                                                                              target, \n",
    "                                                                              test_size=0.4, \n",
    "                                                                              random_state=12082020)\n",
    "features_valid, features_test, target_valid, target_test = train_test_split(features_valid, \n",
    "                                                                            target_valid, \n",
    "                                                                            test_size=0.5,\n",
    "                                                                            random_state=12082020)\n",
    "\n",
    "nltk.download('stopwords')\n",
    "stopwords = set(nltk_stopwords.words('english'))\n",
    "\n",
    "count_tf_idf = TfidfVectorizer(stop_words=stopwords)\n",
    "\n",
    "features_train = count_tf_idf.fit_transform(features_train['lemm_text'].values.astype('U'))\n",
    "features_valid = count_tf_idf.transform(features_valid['lemm_text'].values.astype('U'))\n",
    "features_test = count_tf_idf.transform(features_test['lemm_text'].values.astype('U'))\n",
    "print(features_train.shape)\n",
    "print(features_valid.shape)\n",
    "print(features_test.shape)\n",
    "cv_counts = 3"
   ]
  },
  {
   "cell_type": "code",
   "execution_count": 7,
   "metadata": {},
   "outputs": [
    {
     "name": "stdout",
     "output_type": "stream",
     "text": [
      "F1 на CV 0.6732278141449742\n",
      "CPU times: user 12.5 s, sys: 11.2 s, total: 23.7 s\n",
      "Wall time: 23.7 s\n"
     ]
    }
   ],
   "source": [
    "%%time\n",
    "\n",
    "classificator = LogisticRegression()\n",
    "train_f1 = cross_val_score(classificator, \n",
    "                      features_train, \n",
    "                      target_train, \n",
    "                      cv=cv_counts, \n",
    "                      scoring='f1').mean()\n",
    "print('F1 на CV', train_f1)"
   ]
  },
  {
   "cell_type": "markdown",
   "metadata": {},
   "source": [
    "## 1.1 Изменение баланса классов"
   ]
  },
  {
   "cell_type": "markdown",
   "metadata": {},
   "source": [
    "### 1.1.1 Изменение весов классов"
   ]
  },
  {
   "cell_type": "code",
   "execution_count": 8,
   "metadata": {},
   "outputs": [
    {
     "name": "stdout",
     "output_type": "stream",
     "text": [
      "F1 на CV с балансированными классами 0.7553768002693207\n",
      "CPU times: user 21.7 s, sys: 19.7 s, total: 41.3 s\n",
      "Wall time: 41.5 s\n"
     ]
    }
   ],
   "source": [
    "%%time\n",
    "\n",
    "dict_classes={0:1, 1:class_ratio}\n",
    "classificator = LogisticRegression(class_weight=dict_classes)\n",
    "train_f1_ballanced = cross_val_score(classificator, \n",
    "                                    features_train, \n",
    "                                    target_train, \n",
    "                                    cv=cv_counts, \n",
    "                                    scoring='f1').mean()\n",
    "print('F1 на CV с балансированными классами', train_f1_ballanced)"
   ]
  },
  {
   "cell_type": "code",
   "execution_count": 9,
   "metadata": {},
   "outputs": [
    {
     "name": "stdout",
     "output_type": "stream",
     "text": [
      "F1 на CV с балансированными классами 0.7553768002693207\n",
      "CPU times: user 17.6 s, sys: 15.6 s, total: 33.3 s\n",
      "Wall time: 33.3 s\n"
     ]
    }
   ],
   "source": [
    "%%time\n",
    "\n",
    "classificator = LogisticRegression(class_weight='balanced')\n",
    "train_f1_balanced = cross_val_score(classificator, \n",
    "                                    features_train, \n",
    "                                    target_train, \n",
    "                                    cv=cv_counts, \n",
    "                                    scoring='f1').mean()\n",
    "print('F1 на CV с балансированными классами', train_f1_ballanced)"
   ]
  },
  {
   "cell_type": "markdown",
   "metadata": {},
   "source": [
    "Как видно на обучающей выборке F1-мера увеличилась. Встроенный метод повторяет значение F1."
   ]
  },
  {
   "cell_type": "markdown",
   "metadata": {},
   "source": [
    "### 1.1.2 Ресемплирование с уменьшением класса 0"
   ]
  },
  {
   "cell_type": "markdown",
   "metadata": {},
   "source": [
    "Сделаем количество записей с классом 0 таким же, как и количество записей с классом 1."
   ]
  },
  {
   "cell_type": "code",
   "execution_count": 10,
   "metadata": {},
   "outputs": [],
   "source": [
    "toxic_comments_train = toxic_comments.iloc[target_train.index]\n",
    "\n",
    "target_train_class_zero = toxic_comments_train[toxic_comments_train['toxic'] == 0]['toxic']\n",
    "target_train_class_one = toxic_comments_train[toxic_comments_train['toxic'] == 1]['toxic']"
   ]
  },
  {
   "cell_type": "code",
   "execution_count": 11,
   "metadata": {},
   "outputs": [],
   "source": [
    "target_train_class_zero_downsample = target_train_class_zero.sample(target_train_class_one.shape[0],\n",
    "                                                                    random_state=12082020)\n",
    "target_train_downsample = pd.concat([target_train_class_zero_downsample, target_train_class_one])\n",
    "\n",
    "features_train_downsample = toxic_comments.iloc[target_train_downsample.index]\n",
    "features_train_downsample, target_train_downsample = shuffle(features_train_downsample,\n",
    "                                                             target_train_downsample,\n",
    "                                                             random_state=12082020)\n",
    "features_train_downsample = count_tf_idf.transform(features_train_downsample['lemm_text']\n",
    "                                                   .values.astype('U'))\n",
    "del count_tf_idf\n",
    "del stopwords"
   ]
  },
  {
   "cell_type": "code",
   "execution_count": 12,
   "metadata": {},
   "outputs": [
    {
     "name": "stdout",
     "output_type": "stream",
     "text": [
      "F1 на CV с уменьшением классов 0.8840295072766619\n"
     ]
    }
   ],
   "source": [
    "classificator = LogisticRegression()\n",
    "train_f1_downsampled = cross_val_score(classificator,\n",
    "                      features_train_downsample, \n",
    "                      target_train_downsample, \n",
    "                      cv=cv_counts, \n",
    "                      scoring='f1').mean()\n",
    "print('F1 на CV с уменьшением классов', train_f1_downsampled)"
   ]
  },
  {
   "cell_type": "markdown",
   "metadata": {},
   "source": [
    "Прирост F1-меры ощутимый."
   ]
  },
  {
   "cell_type": "markdown",
   "metadata": {},
   "source": [
    "Построим ROC-AUC графики и просмотрим таблицу результатов баллансирования."
   ]
  },
  {
   "cell_type": "code",
   "execution_count": 13,
   "metadata": {},
   "outputs": [
    {
     "data": {
      "image/png": "[encoded data removed]",
      "text/plain": [
       "<Figure size 864x648 with 1 Axes>"
      ]
     },
     "metadata": {
      "needs_background": "light"
     },
     "output_type": "display_data"
    }
   ],
   "source": [
    "plt.figure(figsize=[12,9])\n",
    "\n",
    "plt.plot([0, 1], [0, 1], linestyle='--', label='RandomModel')\n",
    "\n",
    "\n",
    "classificator = LogisticRegression()\n",
    "classificator.fit(features_train, target_train)\n",
    "probabilities_valid = classificator.predict_proba(features_valid)\n",
    "probabilities_one_valid = probabilities_valid[:, 1]\n",
    "fpr, tpr, thresholds = roc_curve(target_valid, probabilities_one_valid)\n",
    "auc_roc = roc_auc_score(target_valid, probabilities_one_valid)\n",
    "valid_f1 = f1_score(target_valid, classificator.predict(features_valid))\n",
    "plt.plot(fpr, tpr, label='LR')\n",
    "\n",
    "classificator = LogisticRegression(class_weight=dict_classes)\n",
    "classificator.fit(features_train, target_train)\n",
    "probabilities_valid = classificator.predict_proba(features_valid)\n",
    "probabilities_one_valid = probabilities_valid[:, 1]\n",
    "fpr, tpr, thresholds = roc_curve(target_valid, probabilities_one_valid)\n",
    "auc_roc_balanced = roc_auc_score(target_valid, probabilities_one_valid)\n",
    "valid_f1_balanced = f1_score(target_valid, classificator.predict(features_valid))\n",
    "plt.plot(fpr, tpr, label='LR balansed classes')\n",
    "\n",
    "classificator = LogisticRegression()\n",
    "classificator.fit(features_train_downsample,target_train_downsample)\n",
    "probabilities_valid = classificator.predict_proba(features_valid)\n",
    "probabilities_one_valid = probabilities_valid[:, 1]\n",
    "fpr, tpr, thresholds = roc_curve(target_valid, probabilities_one_valid)\n",
    "auc_roc_downsampled = roc_auc_score(target_valid, probabilities_one_valid)\n",
    "valid_f1_downsampled = f1_score(target_valid, classificator.predict(features_valid))\n",
    "plt.plot(fpr, tpr, label='LR downsampled classes')\n",
    "\n",
    "plt.xlim([0,1])\n",
    "plt.ylim([0,1])\n",
    "\n",
    "plt.xlabel(\"False Positive Rate\")\n",
    "plt.ylabel(\"True Positive Rate\")\n",
    "\n",
    "plt.legend(loc='lower right', fontsize='x-large')\n",
    "\n",
    "plt.title(\"ROC-кривая\")\n",
    "plt.show()"
   ]
  },
  {
   "cell_type": "code",
   "execution_count": 14,
   "metadata": {},
   "outputs": [
    {
     "data": {
      "text/html": [
       "<div>\n",
       "<style scoped>\n",
       "    .dataframe tbody tr th:only-of-type {\n",
       "        vertical-align: middle;\n",
       "    }\n",
       "\n",
       "    .dataframe tbody tr th {\n",
       "        vertical-align: top;\n",
       "    }\n",
       "\n",
       "    .dataframe thead th {\n",
       "        text-align: right;\n",
       "    }\n",
       "</style>\n",
       "<table border=\"1\" class=\"dataframe\">\n",
       "  <thead>\n",
       "    <tr style=\"text-align: right;\">\n",
       "      <th></th>\n",
       "      <th>F1 на CV</th>\n",
       "      <th>F1 на валидации</th>\n",
       "      <th>AUC-ROC</th>\n",
       "    </tr>\n",
       "  </thead>\n",
       "  <tbody>\n",
       "    <tr>\n",
       "      <td>LogisticRegression</td>\n",
       "      <td>0.673228</td>\n",
       "      <td>0.726889</td>\n",
       "      <td>0.970741</td>\n",
       "    </tr>\n",
       "    <tr>\n",
       "      <td>LR balansed classes</td>\n",
       "      <td>0.746746</td>\n",
       "      <td>0.758659</td>\n",
       "      <td>0.971826</td>\n",
       "    </tr>\n",
       "    <tr>\n",
       "      <td>LR downsampled classes</td>\n",
       "      <td>0.884030</td>\n",
       "      <td>0.692872</td>\n",
       "      <td>0.964168</td>\n",
       "    </tr>\n",
       "  </tbody>\n",
       "</table>\n",
       "</div>"
      ],
      "text/plain": [
       "                        F1 на CV  F1 на валидации   AUC-ROC\n",
       "LogisticRegression      0.673228         0.726889  0.970741\n",
       "LR balansed classes     0.746746         0.758659  0.971826\n",
       "LR downsampled classes  0.884030         0.692872  0.964168"
      ]
     },
     "execution_count": 14,
     "metadata": {},
     "output_type": "execute_result"
    }
   ],
   "source": [
    "index = ['LogisticRegression',\n",
    "         'LR balansed classes',\n",
    "         'LR downsampled classes']\n",
    "data = {'F1 на CV':[train_f1,\n",
    "                    train_f1_balanced,\n",
    "                    train_f1_downsampled],\n",
    "        'F1 на валидации':[valid_f1,\n",
    "                           valid_f1_balanced,\n",
    "                           valid_f1_downsampled],\n",
    "        'AUC-ROC':[auc_roc,\n",
    "                   auc_roc_balanced,\n",
    "                   auc_roc_downsampled]}\n",
    "\n",
    "scores_data = pd.DataFrame(data=data, index=index)\n",
    "scores_data"
   ]
  },
  {
   "cell_type": "markdown",
   "metadata": {},
   "source": [
    "Выберем метод балансировки по весу. Удалим ненужные переменные."
   ]
  },
  {
   "cell_type": "code",
   "execution_count": 15,
   "metadata": {},
   "outputs": [],
   "source": [
    "del toxic_comments_train\n",
    "del target_train_class_zero\n",
    "del target_train_class_one\n",
    "del target_train_class_zero_downsample\n",
    "del target_train_downsample\n",
    "del features_train_downsample"
   ]
  },
  {
   "cell_type": "markdown",
   "metadata": {},
   "source": [
    "### Вывод по шагу 1\n",
    "\n",
    "В ходе преподготовки были получены признаки для обучения и разделена выборка на обучающую, валидационную и тестовую.\n",
    "\n",
    "На тестировании оптимальными показателями F1 и AUC-ROC обладает классификатор, где учтен вес классов. В обучении мы будем использовать именно этот метод балансирования."
   ]
  },
  {
   "cell_type": "markdown",
   "metadata": {},
   "source": [
    "# 2. Обучение"
   ]
  },
  {
   "cell_type": "markdown",
   "metadata": {},
   "source": [
    "Для обучения выберем следующие модели:\n",
    "\n",
    "1. LogisticRegression\n",
    "2. DecisionTreeClassifier\n",
    "3. CatBoostClassifier\n",
    "4. SGDClassifier"
   ]
  },
  {
   "cell_type": "markdown",
   "metadata": {},
   "source": [
    "## 2.1 Классификатор LogisticRegression"
   ]
  },
  {
   "cell_type": "code",
   "execution_count": 16,
   "metadata": {},
   "outputs": [
    {
     "name": "stdout",
     "output_type": "stream",
     "text": [
      "# Tuning hyper-parameters for f1_score\n",
      "\n",
      "Best parameters set found on development set:\n",
      "\n",
      "{'C': 10, 'class_weight': {0: 1, 1: 8.834884437596301}, 'solver': 'lbfgs'}\n",
      "\n",
      "Grid scores on development set:\n",
      "\n",
      "0.713043 for {'C': 0.1, 'class_weight': {0: 1, 1: 8.834884437596301}, 'solver': 'newton-cg'}\n",
      "0.713043 for {'C': 0.1, 'class_weight': {0: 1, 1: 8.834884437596301}, 'solver': 'lbfgs'}\n",
      "0.712851 for {'C': 0.1, 'class_weight': {0: 1, 1: 8.834884437596301}, 'solver': 'liblinear'}\n",
      "0.755413 for {'C': 1, 'class_weight': {0: 1, 1: 8.834884437596301}, 'solver': 'newton-cg'}\n",
      "0.755376 for {'C': 1, 'class_weight': {0: 1, 1: 8.834884437596301}, 'solver': 'lbfgs'}\n",
      "0.755377 for {'C': 1, 'class_weight': {0: 1, 1: 8.834884437596301}, 'solver': 'liblinear'}\n",
      "0.763108 for {'C': 10, 'class_weight': {0: 1, 1: 8.834884437596301}, 'solver': 'newton-cg'}\n",
      "0.763119 for {'C': 10, 'class_weight': {0: 1, 1: 8.834884437596301}, 'solver': 'lbfgs'}\n",
      "0.763068 for {'C': 10, 'class_weight': {0: 1, 1: 8.834884437596301}, 'solver': 'liblinear'}\n",
      "\n",
      "CPU times: user 5min 52s, sys: 5min 54s, total: 11min 46s\n",
      "Wall time: 11min 50s\n"
     ]
    }
   ],
   "source": [
    "%%time\n",
    "\n",
    "classificator = LogisticRegression()\n",
    "hyperparams = [{'solver':['newton-cg', 'lbfgs', 'liblinear'],\n",
    "                'C':[0.1, 1, 10],\n",
    "                'class_weight':[dict_classes]}]\n",
    "\n",
    "\n",
    "print('# Tuning hyper-parameters for f1_score')\n",
    "print()\n",
    "clf = GridSearchCV(classificator, hyperparams, scoring='f1',cv=cv_counts)\n",
    "clf.fit(features_train, target_train)\n",
    "print(\"Best parameters set found on development set:\")\n",
    "print()\n",
    "LR_best_params = clf.best_params_\n",
    "print(LR_best_params)\n",
    "print()\n",
    "print(\"Grid scores on development set:\")\n",
    "print()\n",
    "means = clf.cv_results_['mean_test_score']\n",
    "stds = clf.cv_results_['std_test_score']\n",
    "for mean, std, params in zip(means, stds, clf.cv_results_['params']):\n",
    "    print(\"%0.6f for %r\"% (mean, params))\n",
    "print()\n",
    "\n",
    "cv_f1_LR = max(means)"
   ]
  },
  {
   "cell_type": "code",
   "execution_count": 17,
   "metadata": {},
   "outputs": [
    {
     "name": "stdout",
     "output_type": "stream",
     "text": [
      "F1 на cv 0.7631191168916892\n",
      "F1 на валидации 0.7647146475935032\n",
      "CPU times: user 25.2 s, sys: 26.4 s, total: 51.6 s\n",
      "Wall time: 51.9 s\n"
     ]
    }
   ],
   "source": [
    "%%time\n",
    "\n",
    "classificator = LogisticRegression()\n",
    "classificator.set_params(**LR_best_params)\n",
    "classificator.fit(features_train, target_train)\n",
    "target_predict = classificator.predict(features_valid)\n",
    "valid_f1_LR = f1_score(target_valid, target_predict)\n",
    "print('F1 на cv', cv_f1_LR)\n",
    "print('F1 на валидации', valid_f1_LR)"
   ]
  },
  {
   "cell_type": "markdown",
   "metadata": {},
   "source": [
    "## 2.2 Классификатор DecisionTreeClassifier"
   ]
  },
  {
   "cell_type": "code",
   "execution_count": 18,
   "metadata": {},
   "outputs": [
    {
     "name": "stdout",
     "output_type": "stream",
     "text": [
      "# Tuning hyper-parameters for f1_score\n",
      "\n",
      "Best parameters set found on development set:\n",
      "\n",
      "{'class_weight': {0: 1, 1: 8.834884437596301}, 'max_depth': 40, 'random_state': 12082020}\n",
      "\n",
      "Grid scores on development set:\n",
      "\n",
      "0.602556 for {'class_weight': {0: 1, 1: 8.834884437596301}, 'max_depth': 30, 'random_state': 12082020}\n",
      "0.609787 for {'class_weight': {0: 1, 1: 8.834884437596301}, 'max_depth': 32, 'random_state': 12082020}\n",
      "0.617002 for {'class_weight': {0: 1, 1: 8.834884437596301}, 'max_depth': 34, 'random_state': 12082020}\n",
      "0.613539 for {'class_weight': {0: 1, 1: 8.834884437596301}, 'max_depth': 36, 'random_state': 12082020}\n",
      "0.618676 for {'class_weight': {0: 1, 1: 8.834884437596301}, 'max_depth': 38, 'random_state': 12082020}\n",
      "0.625155 for {'class_weight': {0: 1, 1: 8.834884437596301}, 'max_depth': 40, 'random_state': 12082020}\n",
      "0.619878 for {'class_weight': {0: 1, 1: 8.834884437596301}, 'max_depth': 42, 'random_state': 12082020}\n",
      "0.608491 for {'class_weight': {0: 1, 1: 8.834884437596301}, 'max_depth': 44, 'random_state': 12082020}\n",
      "0.604170 for {'class_weight': {0: 1, 1: 8.834884437596301}, 'max_depth': 46, 'random_state': 12082020}\n",
      "0.613053 for {'class_weight': {0: 1, 1: 8.834884437596301}, 'max_depth': 48, 'random_state': 12082020}\n",
      "0.613166 for {'class_weight': {0: 1, 1: 8.834884437596301}, 'max_depth': 50, 'random_state': 12082020}\n",
      "\n",
      "CPU times: user 14min 51s, sys: 0 ns, total: 14min 51s\n",
      "Wall time: 15min 5s\n"
     ]
    }
   ],
   "source": [
    "%%time\n",
    "\n",
    "classificator = DecisionTreeClassifier()\n",
    "hyperparams = [{'max_depth':[x for x in range(30,51,2)],\n",
    "                'random_state':[12082020],\n",
    "                'class_weight':[dict_classes]}]\n",
    "\n",
    "\n",
    "print('# Tuning hyper-parameters for f1_score')\n",
    "print()\n",
    "clf = GridSearchCV(classificator, hyperparams, scoring='f1',cv=cv_counts)\n",
    "clf.fit(features_train, target_train)\n",
    "print(\"Best parameters set found on development set:\")\n",
    "print()\n",
    "DTC_best_params = clf.best_params_\n",
    "print(DTC_best_params)\n",
    "print()\n",
    "print(\"Grid scores on development set:\")\n",
    "print()\n",
    "means = clf.cv_results_['mean_test_score']\n",
    "stds = clf.cv_results_['std_test_score']\n",
    "for mean, std, params in zip(means, stds, clf.cv_results_['params']):\n",
    "    print(\"%0.6f for %r\"% (mean, params))\n",
    "print()\n",
    "\n",
    "cv_f1_DTC = max(means)"
   ]
  },
  {
   "cell_type": "code",
   "execution_count": 19,
   "metadata": {},
   "outputs": [
    {
     "name": "stdout",
     "output_type": "stream",
     "text": [
      "F1 на cv 0.6251551031277168\n",
      "F1 на валидации 0.605458320973005\n",
      "CPU times: user 34 s, sys: 0 ns, total: 34 s\n",
      "Wall time: 34.8 s\n"
     ]
    }
   ],
   "source": [
    "%%time\n",
    "\n",
    "classificator = DecisionTreeClassifier()\n",
    "classificator.set_params(**DTC_best_params)\n",
    "classificator.fit(features_train, target_train)\n",
    "target_predict = classificator.predict(features_valid)\n",
    "valid_f1_DTC = f1_score(target_valid, target_predict)\n",
    "print('F1 на cv', cv_f1_DTC)\n",
    "print('F1 на валидации', valid_f1_DTC)"
   ]
  },
  {
   "cell_type": "markdown",
   "metadata": {},
   "source": [
    "## 2.3 Классификатор CatBoostClassifier"
   ]
  },
  {
   "cell_type": "code",
   "execution_count": 20,
   "metadata": {},
   "outputs": [
    {
     "name": "stdout",
     "output_type": "stream",
     "text": [
      "F1 на cv 0.7186686644372537\n",
      "F1 на валидации 0.7413539367181752\n",
      "CPU times: user 48min 38s, sys: 8min 29s, total: 57min 7s\n",
      "Wall time: 57min 30s\n"
     ]
    }
   ],
   "source": [
    "%%time\n",
    "\n",
    "classificator = CatBoostClassifier(verbose=False, iterations=200)\n",
    "classificator.fit(features_train, target_train)\n",
    "target_predict = classificator.predict(features_valid)\n",
    "cv_f1_CBC = cross_val_score(classificator,\n",
    "                                         features_train, \n",
    "                                         target_train, \n",
    "                                         cv=cv_counts, \n",
    "                                         scoring='f1').mean()\n",
    "valid_f1_CBC = f1_score(target_valid, target_predict)\n",
    "print('F1 на cv', cv_f1_CBC)\n",
    "print('F1 на валидации', valid_f1_CBC)"
   ]
  },
  {
   "cell_type": "markdown",
   "metadata": {},
   "source": [
    "## 2.4 Классификатор SGDClassifier"
   ]
  },
  {
   "cell_type": "code",
   "execution_count": 21,
   "metadata": {},
   "outputs": [
    {
     "name": "stdout",
     "output_type": "stream",
     "text": [
      "# Tuning hyper-parameters for f1_score\n",
      "\n",
      "Best parameters set found on development set:\n",
      "\n",
      "{'class_weight': {0: 1, 1: 8.834884437596301}, 'eta0': 0.2, 'learning_rate': 'adaptive', 'loss': 'modified_huber', 'random_state': 12082020}\n",
      "\n",
      "Grid scores on development set:\n",
      "\n",
      "0.736420 for {'class_weight': {0: 1, 1: 8.834884437596301}, 'eta0': 0.01, 'learning_rate': 'constant', 'loss': 'hinge', 'random_state': 12082020}\n",
      "0.718251 for {'class_weight': {0: 1, 1: 8.834884437596301}, 'eta0': 0.01, 'learning_rate': 'constant', 'loss': 'log', 'random_state': 12082020}\n",
      "0.751749 for {'class_weight': {0: 1, 1: 8.834884437596301}, 'eta0': 0.01, 'learning_rate': 'constant', 'loss': 'modified_huber', 'random_state': 12082020}\n",
      "0.739705 for {'class_weight': {0: 1, 1: 8.834884437596301}, 'eta0': 0.01, 'learning_rate': 'optimal', 'loss': 'hinge', 'random_state': 12082020}\n",
      "0.717909 for {'class_weight': {0: 1, 1: 8.834884437596301}, 'eta0': 0.01, 'learning_rate': 'optimal', 'loss': 'log', 'random_state': 12082020}\n",
      "0.756487 for {'class_weight': {0: 1, 1: 8.834884437596301}, 'eta0': 0.01, 'learning_rate': 'optimal', 'loss': 'modified_huber', 'random_state': 12082020}\n",
      "0.655253 for {'class_weight': {0: 1, 1: 8.834884437596301}, 'eta0': 0.01, 'learning_rate': 'invscaling', 'loss': 'hinge', 'random_state': 12082020}\n",
      "0.650243 for {'class_weight': {0: 1, 1: 8.834884437596301}, 'eta0': 0.01, 'learning_rate': 'invscaling', 'loss': 'log', 'random_state': 12082020}\n",
      "0.676474 for {'class_weight': {0: 1, 1: 8.834884437596301}, 'eta0': 0.01, 'learning_rate': 'invscaling', 'loss': 'modified_huber', 'random_state': 12082020}\n",
      "0.741974 for {'class_weight': {0: 1, 1: 8.834884437596301}, 'eta0': 0.01, 'learning_rate': 'adaptive', 'loss': 'hinge', 'random_state': 12082020}\n",
      "0.719268 for {'class_weight': {0: 1, 1: 8.834884437596301}, 'eta0': 0.01, 'learning_rate': 'adaptive', 'loss': 'log', 'random_state': 12082020}\n",
      "0.760112 for {'class_weight': {0: 1, 1: 8.834884437596301}, 'eta0': 0.01, 'learning_rate': 'adaptive', 'loss': 'modified_huber', 'random_state': 12082020}\n",
      "0.735789 for {'class_weight': {0: 1, 1: 8.834884437596301}, 'eta0': 0.05, 'learning_rate': 'constant', 'loss': 'hinge', 'random_state': 12082020}\n",
      "0.710881 for {'class_weight': {0: 1, 1: 8.834884437596301}, 'eta0': 0.05, 'learning_rate': 'constant', 'loss': 'log', 'random_state': 12082020}\n",
      "0.734771 for {'class_weight': {0: 1, 1: 8.834884437596301}, 'eta0': 0.05, 'learning_rate': 'constant', 'loss': 'modified_huber', 'random_state': 12082020}\n",
      "0.739705 for {'class_weight': {0: 1, 1: 8.834884437596301}, 'eta0': 0.05, 'learning_rate': 'optimal', 'loss': 'hinge', 'random_state': 12082020}\n",
      "0.717909 for {'class_weight': {0: 1, 1: 8.834884437596301}, 'eta0': 0.05, 'learning_rate': 'optimal', 'loss': 'log', 'random_state': 12082020}\n",
      "0.756487 for {'class_weight': {0: 1, 1: 8.834884437596301}, 'eta0': 0.05, 'learning_rate': 'optimal', 'loss': 'modified_huber', 'random_state': 12082020}\n",
      "0.693720 for {'class_weight': {0: 1, 1: 8.834884437596301}, 'eta0': 0.05, 'learning_rate': 'invscaling', 'loss': 'hinge', 'random_state': 12082020}\n",
      "0.670374 for {'class_weight': {0: 1, 1: 8.834884437596301}, 'eta0': 0.05, 'learning_rate': 'invscaling', 'loss': 'log', 'random_state': 12082020}\n",
      "0.677618 for {'class_weight': {0: 1, 1: 8.834884437596301}, 'eta0': 0.05, 'learning_rate': 'invscaling', 'loss': 'modified_huber', 'random_state': 12082020}\n",
      "0.742377 for {'class_weight': {0: 1, 1: 8.834884437596301}, 'eta0': 0.05, 'learning_rate': 'adaptive', 'loss': 'hinge', 'random_state': 12082020}\n",
      "0.721337 for {'class_weight': {0: 1, 1: 8.834884437596301}, 'eta0': 0.05, 'learning_rate': 'adaptive', 'loss': 'log', 'random_state': 12082020}\n",
      "0.760378 for {'class_weight': {0: 1, 1: 8.834884437596301}, 'eta0': 0.05, 'learning_rate': 'adaptive', 'loss': 'modified_huber', 'random_state': 12082020}\n",
      "0.708324 for {'class_weight': {0: 1, 1: 8.834884437596301}, 'eta0': 0.1, 'learning_rate': 'constant', 'loss': 'hinge', 'random_state': 12082020}\n",
      "0.709231 for {'class_weight': {0: 1, 1: 8.834884437596301}, 'eta0': 0.1, 'learning_rate': 'constant', 'loss': 'log', 'random_state': 12082020}\n",
      "0.681410 for {'class_weight': {0: 1, 1: 8.834884437596301}, 'eta0': 0.1, 'learning_rate': 'constant', 'loss': 'modified_huber', 'random_state': 12082020}\n",
      "0.739705 for {'class_weight': {0: 1, 1: 8.834884437596301}, 'eta0': 0.1, 'learning_rate': 'optimal', 'loss': 'hinge', 'random_state': 12082020}\n",
      "0.717909 for {'class_weight': {0: 1, 1: 8.834884437596301}, 'eta0': 0.1, 'learning_rate': 'optimal', 'loss': 'log', 'random_state': 12082020}\n",
      "0.756487 for {'class_weight': {0: 1, 1: 8.834884437596301}, 'eta0': 0.1, 'learning_rate': 'optimal', 'loss': 'modified_huber', 'random_state': 12082020}\n",
      "0.693118 for {'class_weight': {0: 1, 1: 8.834884437596301}, 'eta0': 0.1, 'learning_rate': 'invscaling', 'loss': 'hinge', 'random_state': 12082020}\n",
      "0.672482 for {'class_weight': {0: 1, 1: 8.834884437596301}, 'eta0': 0.1, 'learning_rate': 'invscaling', 'loss': 'log', 'random_state': 12082020}\n",
      "0.690632 for {'class_weight': {0: 1, 1: 8.834884437596301}, 'eta0': 0.1, 'learning_rate': 'invscaling', 'loss': 'modified_huber', 'random_state': 12082020}\n",
      "0.743301 for {'class_weight': {0: 1, 1: 8.834884437596301}, 'eta0': 0.1, 'learning_rate': 'adaptive', 'loss': 'hinge', 'random_state': 12082020}\n",
      "0.721652 for {'class_weight': {0: 1, 1: 8.834884437596301}, 'eta0': 0.1, 'learning_rate': 'adaptive', 'loss': 'log', 'random_state': 12082020}\n",
      "0.760748 for {'class_weight': {0: 1, 1: 8.834884437596301}, 'eta0': 0.1, 'learning_rate': 'adaptive', 'loss': 'modified_huber', 'random_state': 12082020}\n",
      "0.689960 for {'class_weight': {0: 1, 1: 8.834884437596301}, 'eta0': 0.2, 'learning_rate': 'constant', 'loss': 'hinge', 'random_state': 12082020}\n",
      "0.696208 for {'class_weight': {0: 1, 1: 8.834884437596301}, 'eta0': 0.2, 'learning_rate': 'constant', 'loss': 'log', 'random_state': 12082020}\n",
      "0.601184 for {'class_weight': {0: 1, 1: 8.834884437596301}, 'eta0': 0.2, 'learning_rate': 'constant', 'loss': 'modified_huber', 'random_state': 12082020}\n",
      "0.739705 for {'class_weight': {0: 1, 1: 8.834884437596301}, 'eta0': 0.2, 'learning_rate': 'optimal', 'loss': 'hinge', 'random_state': 12082020}\n",
      "0.717909 for {'class_weight': {0: 1, 1: 8.834884437596301}, 'eta0': 0.2, 'learning_rate': 'optimal', 'loss': 'log', 'random_state': 12082020}\n",
      "0.756487 for {'class_weight': {0: 1, 1: 8.834884437596301}, 'eta0': 0.2, 'learning_rate': 'optimal', 'loss': 'modified_huber', 'random_state': 12082020}\n",
      "0.690539 for {'class_weight': {0: 1, 1: 8.834884437596301}, 'eta0': 0.2, 'learning_rate': 'invscaling', 'loss': 'hinge', 'random_state': 12082020}\n",
      "0.670654 for {'class_weight': {0: 1, 1: 8.834884437596301}, 'eta0': 0.2, 'learning_rate': 'invscaling', 'loss': 'log', 'random_state': 12082020}\n",
      "0.710949 for {'class_weight': {0: 1, 1: 8.834884437596301}, 'eta0': 0.2, 'learning_rate': 'invscaling', 'loss': 'modified_huber', 'random_state': 12082020}\n",
      "0.742734 for {'class_weight': {0: 1, 1: 8.834884437596301}, 'eta0': 0.2, 'learning_rate': 'adaptive', 'loss': 'hinge', 'random_state': 12082020}\n",
      "0.721542 for {'class_weight': {0: 1, 1: 8.834884437596301}, 'eta0': 0.2, 'learning_rate': 'adaptive', 'loss': 'log', 'random_state': 12082020}\n",
      "0.760833 for {'class_weight': {0: 1, 1: 8.834884437596301}, 'eta0': 0.2, 'learning_rate': 'adaptive', 'loss': 'modified_huber', 'random_state': 12082020}\n",
      "0.662661 for {'class_weight': {0: 1, 1: 8.834884437596301}, 'eta0': 0.3, 'learning_rate': 'constant', 'loss': 'hinge', 'random_state': 12082020}\n",
      "0.683986 for {'class_weight': {0: 1, 1: 8.834884437596301}, 'eta0': 0.3, 'learning_rate': 'constant', 'loss': 'log', 'random_state': 12082020}\n",
      "0.539486 for {'class_weight': {0: 1, 1: 8.834884437596301}, 'eta0': 0.3, 'learning_rate': 'constant', 'loss': 'modified_huber', 'random_state': 12082020}\n",
      "0.739705 for {'class_weight': {0: 1, 1: 8.834884437596301}, 'eta0': 0.3, 'learning_rate': 'optimal', 'loss': 'hinge', 'random_state': 12082020}\n",
      "0.717909 for {'class_weight': {0: 1, 1: 8.834884437596301}, 'eta0': 0.3, 'learning_rate': 'optimal', 'loss': 'log', 'random_state': 12082020}\n",
      "0.756487 for {'class_weight': {0: 1, 1: 8.834884437596301}, 'eta0': 0.3, 'learning_rate': 'optimal', 'loss': 'modified_huber', 'random_state': 12082020}\n",
      "0.694849 for {'class_weight': {0: 1, 1: 8.834884437596301}, 'eta0': 0.3, 'learning_rate': 'invscaling', 'loss': 'hinge', 'random_state': 12082020}\n",
      "0.670408 for {'class_weight': {0: 1, 1: 8.834884437596301}, 'eta0': 0.3, 'learning_rate': 'invscaling', 'loss': 'log', 'random_state': 12082020}\n",
      "0.724752 for {'class_weight': {0: 1, 1: 8.834884437596301}, 'eta0': 0.3, 'learning_rate': 'invscaling', 'loss': 'modified_huber', 'random_state': 12082020}\n",
      "0.743158 for {'class_weight': {0: 1, 1: 8.834884437596301}, 'eta0': 0.3, 'learning_rate': 'adaptive', 'loss': 'hinge', 'random_state': 12082020}\n",
      "0.721731 for {'class_weight': {0: 1, 1: 8.834884437596301}, 'eta0': 0.3, 'learning_rate': 'adaptive', 'loss': 'log', 'random_state': 12082020}\n",
      "0.760063 for {'class_weight': {0: 1, 1: 8.834884437596301}, 'eta0': 0.3, 'learning_rate': 'adaptive', 'loss': 'modified_huber', 'random_state': 12082020}\n",
      "0.652703 for {'class_weight': {0: 1, 1: 8.834884437596301}, 'eta0': 0.5, 'learning_rate': 'constant', 'loss': 'hinge', 'random_state': 12082020}\n",
      "0.670627 for {'class_weight': {0: 1, 1: 8.834884437596301}, 'eta0': 0.5, 'learning_rate': 'constant', 'loss': 'log', 'random_state': 12082020}\n",
      "0.494546 for {'class_weight': {0: 1, 1: 8.834884437596301}, 'eta0': 0.5, 'learning_rate': 'constant', 'loss': 'modified_huber', 'random_state': 12082020}\n",
      "0.739705 for {'class_weight': {0: 1, 1: 8.834884437596301}, 'eta0': 0.5, 'learning_rate': 'optimal', 'loss': 'hinge', 'random_state': 12082020}\n",
      "0.717909 for {'class_weight': {0: 1, 1: 8.834884437596301}, 'eta0': 0.5, 'learning_rate': 'optimal', 'loss': 'log', 'random_state': 12082020}\n",
      "0.756487 for {'class_weight': {0: 1, 1: 8.834884437596301}, 'eta0': 0.5, 'learning_rate': 'optimal', 'loss': 'modified_huber', 'random_state': 12082020}\n",
      "0.706849 for {'class_weight': {0: 1, 1: 8.834884437596301}, 'eta0': 0.5, 'learning_rate': 'invscaling', 'loss': 'hinge', 'random_state': 12082020}\n",
      "0.673253 for {'class_weight': {0: 1, 1: 8.834884437596301}, 'eta0': 0.5, 'learning_rate': 'invscaling', 'loss': 'log', 'random_state': 12082020}\n",
      "0.736990 for {'class_weight': {0: 1, 1: 8.834884437596301}, 'eta0': 0.5, 'learning_rate': 'invscaling', 'loss': 'modified_huber', 'random_state': 12082020}\n",
      "0.742763 for {'class_weight': {0: 1, 1: 8.834884437596301}, 'eta0': 0.5, 'learning_rate': 'adaptive', 'loss': 'hinge', 'random_state': 12082020}\n",
      "0.720892 for {'class_weight': {0: 1, 1: 8.834884437596301}, 'eta0': 0.5, 'learning_rate': 'adaptive', 'loss': 'log', 'random_state': 12082020}\n",
      "0.760384 for {'class_weight': {0: 1, 1: 8.834884437596301}, 'eta0': 0.5, 'learning_rate': 'adaptive', 'loss': 'modified_huber', 'random_state': 12082020}\n",
      "\n",
      "CPU times: user 3min 21s, sys: 16.8 s, total: 3min 38s\n",
      "Wall time: 3min 40s\n"
     ]
    }
   ],
   "source": [
    "%%time\n",
    "\n",
    "classificator = SGDClassifier()\n",
    "hyperparams = [{'loss':['hinge', 'log', 'modified_huber'],\n",
    "                'learning_rate':['constant', 'optimal', 'invscaling', 'adaptive'],\n",
    "                'eta0':[0.01, 0.05, 0.1, 0.2, 0.3, 0.5],\n",
    "                'random_state':[12082020],\n",
    "                'class_weight':[dict_classes]}]\n",
    "\n",
    "\n",
    "print('# Tuning hyper-parameters for f1_score')\n",
    "print()\n",
    "clf = GridSearchCV(classificator, hyperparams, scoring='f1',cv=cv_counts)\n",
    "clf.fit(features_train, target_train)\n",
    "print(\"Best parameters set found on development set:\")\n",
    "print()\n",
    "SGDC_best_params = clf.best_params_\n",
    "print(SGDC_best_params)\n",
    "print()\n",
    "print(\"Grid scores on development set:\")\n",
    "print()\n",
    "means = clf.cv_results_['mean_test_score']\n",
    "stds = clf.cv_results_['std_test_score']\n",
    "for mean, std, params in zip(means, stds, clf.cv_results_['params']):\n",
    "    print(\"%0.6f for %r\"% (mean, params))\n",
    "print()\n",
    "\n",
    "cv_f1_SGDC = max(means)"
   ]
  },
  {
   "cell_type": "code",
   "execution_count": 22,
   "metadata": {},
   "outputs": [
    {
     "name": "stdout",
     "output_type": "stream",
     "text": [
      "F1 на cv 0.760833316568524\n",
      "F1 на валидации 0.7602816901408451\n",
      "CPU times: user 1.92 s, sys: 85.9 ms, total: 2.01 s\n",
      "Wall time: 2.02 s\n"
     ]
    }
   ],
   "source": [
    "%%time\n",
    "\n",
    "classificator = SGDClassifier()\n",
    "classificator.set_params(**SGDC_best_params)\n",
    "classificator.fit(features_train, target_train)\n",
    "target_predict = classificator.predict(features_valid)\n",
    "valid_f1_SGDC = f1_score(target_valid, target_predict)\n",
    "print('F1 на cv', cv_f1_SGDC)\n",
    "print('F1 на валидации', valid_f1_SGDC)"
   ]
  },
  {
   "cell_type": "markdown",
   "metadata": {},
   "source": [
    "Выведем таблицу валидации лучших моделей."
   ]
  },
  {
   "cell_type": "code",
   "execution_count": 23,
   "metadata": {},
   "outputs": [
    {
     "data": {
      "text/html": [
       "<div>\n",
       "<style scoped>\n",
       "    .dataframe tbody tr th:only-of-type {\n",
       "        vertical-align: middle;\n",
       "    }\n",
       "\n",
       "    .dataframe tbody tr th {\n",
       "        vertical-align: top;\n",
       "    }\n",
       "\n",
       "    .dataframe thead th {\n",
       "        text-align: right;\n",
       "    }\n",
       "</style>\n",
       "<table border=\"1\" class=\"dataframe\">\n",
       "  <thead>\n",
       "    <tr style=\"text-align: right;\">\n",
       "      <th></th>\n",
       "      <th>F1 на CV</th>\n",
       "      <th>F1 на валидации</th>\n",
       "      <th>Выполнение задачи</th>\n",
       "    </tr>\n",
       "  </thead>\n",
       "  <tbody>\n",
       "    <tr>\n",
       "      <td>LogisticRegression</td>\n",
       "      <td>0.763119</td>\n",
       "      <td>0.764715</td>\n",
       "      <td>True</td>\n",
       "    </tr>\n",
       "    <tr>\n",
       "      <td>DecisionTreeClassifier</td>\n",
       "      <td>0.625155</td>\n",
       "      <td>0.605458</td>\n",
       "      <td>False</td>\n",
       "    </tr>\n",
       "    <tr>\n",
       "      <td>CatBoostClassifier</td>\n",
       "      <td>0.718669</td>\n",
       "      <td>0.741354</td>\n",
       "      <td>False</td>\n",
       "    </tr>\n",
       "    <tr>\n",
       "      <td>SGDClassifier</td>\n",
       "      <td>0.760833</td>\n",
       "      <td>0.760282</td>\n",
       "      <td>True</td>\n",
       "    </tr>\n",
       "  </tbody>\n",
       "</table>\n",
       "</div>"
      ],
      "text/plain": [
       "                        F1 на CV  F1 на валидации  Выполнение задачи\n",
       "LogisticRegression      0.763119         0.764715               True\n",
       "DecisionTreeClassifier  0.625155         0.605458              False\n",
       "CatBoostClassifier      0.718669         0.741354              False\n",
       "SGDClassifier           0.760833         0.760282               True"
      ]
     },
     "execution_count": 23,
     "metadata": {},
     "output_type": "execute_result"
    }
   ],
   "source": [
    "index = ['LogisticRegression',\n",
    "         'DecisionTreeClassifier',\n",
    "         'CatBoostClassifier',\n",
    "         'SGDClassifier']\n",
    "data = {'F1 на CV':[cv_f1_LR,\n",
    "                    cv_f1_DTC,\n",
    "                    cv_f1_CBC,\n",
    "                    cv_f1_SGDC],\n",
    "        'F1 на валидации':[valid_f1_LR,\n",
    "                           valid_f1_DTC,\n",
    "                           valid_f1_CBC,\n",
    "                           valid_f1_SGDC]}\n",
    "\n",
    "scores_data = pd.DataFrame(data=data, index=index)\n",
    "scores_data['Выполнение задачи'] = scores_data['F1 на валидации'] > 0.75\n",
    "scores_data"
   ]
  },
  {
   "cell_type": "markdown",
   "metadata": {},
   "source": [
    "### Вывод по шагу 2\n",
    "\n",
    "К тестовому набору данных перейдут LogisticRegression и SGDClassifier."
   ]
  },
  {
   "cell_type": "markdown",
   "metadata": {},
   "source": [
    "# 3. Выводы"
   ]
  },
  {
   "cell_type": "markdown",
   "metadata": {},
   "source": [
    "Проведем получение F1-меры, precision, recall, accuracy и roc_auc. Так же построим графики."
   ]
  },
  {
   "cell_type": "code",
   "execution_count": 24,
   "metadata": {},
   "outputs": [
    {
     "name": "stdout",
     "output_type": "stream",
     "text": [
      "Метрики LogisticRegression\n",
      "ROC AUC: 0.9634591597615798\n",
      "F1: 0.7650257163850109\n",
      "Precision: 0.738230289279637\n",
      "Recall: 0.7938395852394022\n",
      "Accuracy: 0.94989816700611\n",
      "\n",
      "Метрики SGDClassifier\n",
      "ROC AUC: 0.9678761170538359\n",
      "F1: 0.7566144895414878\n",
      "Precision: 0.6931472081218274\n",
      "Recall: 0.8328758767917048\n",
      "Accuracy: 0.9449475168416105\n",
      "\n"
     ]
    },
    {
     "data": {
      "image/png": "[encoded data removed]",
      "text/plain": [
       "<Figure size 864x648 with 1 Axes>"
      ]
     },
     "metadata": {
      "needs_background": "light"
     },
     "output_type": "display_data"
    }
   ],
   "source": [
    "plt.figure(figsize=[12,9])\n",
    "\n",
    "plt.plot([0, 1], [0, 1], linestyle='--', label='RandomModel')\n",
    "\n",
    "\n",
    "classificator = LogisticRegression()\n",
    "classificator.set_params(**LR_best_params)\n",
    "classificator.fit(features_train, target_train)\n",
    "probabilities_test = classificator.predict_proba(features_test)\n",
    "probabilities_one_test = probabilities_test[:, 1]\n",
    "fpr, tpr, thresholds = roc_curve(target_test, probabilities_one_test)\n",
    "predict_test = classificator.predict(features_test)\n",
    "plt.plot(fpr, tpr, label='LogisticRegression')\n",
    "print('Метрики LogisticRegression')\n",
    "print('ROC AUC:', roc_auc_score(target_test, probabilities_one_test))\n",
    "print('F1:', f1_score(target_test, predict_test))\n",
    "print('Precision:', precision_score(target_test, predict_test))\n",
    "print('Recall:', recall_score(target_test, predict_test))\n",
    "print('Accuracy:', accuracy_score(target_test, predict_test))\n",
    "print()\n",
    "\n",
    "classificator = SGDClassifier()\n",
    "classificator.set_params(**SGDC_best_params)\n",
    "classificator.fit(features_train, target_train)\n",
    "probabilities_test = classificator.predict_proba(features_test)\n",
    "probabilities_one_test = probabilities_test[:, 1]\n",
    "fpr, tpr, thresholds = roc_curve(target_test, probabilities_one_test)\n",
    "predict_test = classificator.predict(features_test)\n",
    "plt.plot(fpr, tpr, label='SGDClassifier')\n",
    "print('Метрики SGDClassifier')\n",
    "print('ROC AUC:', roc_auc_score(target_test, probabilities_one_test))\n",
    "print('F1:', f1_score(target_test, predict_test))\n",
    "print('Precision:', precision_score(target_test, predict_test))\n",
    "print('Recall:', recall_score(target_test, predict_test))\n",
    "print('Accuracy:', accuracy_score(target_test, predict_test))\n",
    "print()\n",
    "\n",
    "plt.xlim([0,1])\n",
    "plt.ylim([0,1])\n",
    "\n",
    "plt.xlabel(\"False Positive Rate\")\n",
    "plt.ylabel(\"True Positive Rate\")\n",
    "\n",
    "plt.legend(loc='lower right', fontsize='x-large')\n",
    "\n",
    "plt.title(\"ROC-кривая\")\n",
    "plt.show()"
   ]
  },
  {
   "cell_type": "markdown",
   "metadata": {},
   "source": [
    "### Итоговый вывод\n",
    "\n",
    "В ходе работы над проектом было сделано:\n",
    "\n",
    "- Подготовленны данные обучения на моделях.\n",
    "- Выбран способ баланса классов и поделены данные на обучающую, валидационную и тестовою выборку.\n",
    "- Обучены модели и выбраны лучшие из них на валидационной выборке.\n",
    "- Показаны параметры качества моделей.\n",
    "\n",
    "Исходные данные обладают большим количеством признаков. Созданных столбцов больше, чем записей данных. Так как TF-IDF превращают текст в численные значения, лучшими моделями стали LogisticRegression и SGDClassifier. CatBoostClassifier может показать себя очень хорошо при долгом обучении на данных. В ходе тестов данный классификатор мог обучатся до 5 часов.\n",
    "\n",
    "На тестовой выбоке по метрике F1 лучше всего себя показал LogisticRegression всего на 0.09.\n",
    "Данная модель обладает больними показателями Precision и Accuracy. Это говорит нам, что токсичные комментарии находятся лучше.\n",
    "\n",
    "SGDClassifier показал себя лучше в ROC AUC и Recall метриках. Модель способна обработать больше записей. "
   ]
  }
 ],
 "metadata": {
  "kernelspec": {
   "display_name": "Python 3",
   "language": "python",
   "name": "python3"
  },
  "language_info": {
   "codemirror_mode": {
    "name": "ipython",
    "version": 3
   },
   "file_extension": ".py",
   "mimetype": "text/x-python",
   "name": "python",
   "nbconvert_exporter": "python",
   "pygments_lexer": "ipython3",
   "version": "3.7.6"
  }
 },
 "nbformat": 4,
 "nbformat_minor": 2
}
